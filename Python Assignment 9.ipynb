{
 "cells": [
  {
   "cell_type": "markdown",
   "id": "4e1c304a",
   "metadata": {},
   "source": [
    "1. What is a lambda function in Python, and how does it differ from a regular function?"
   ]
  },
  {
   "cell_type": "markdown",
   "id": "6416a476",
   "metadata": {},
   "source": [
    "Ans - Ans - Lambda function in Python is a one-line anonymous function without any name using lambda keyword. Lambda function can take any number of arguments but can only have one expression."
   ]
  },
  {
   "cell_type": "code",
   "execution_count": 4,
   "id": "6aef6e46",
   "metadata": {},
   "outputs": [
    {
     "name": "stdout",
     "output_type": "stream",
     "text": [
      "6\n",
      "6\n"
     ]
    }
   ],
   "source": [
    "# Regular function\n",
    "def add(x, y):\n",
    "    return x + y\n",
    "\n",
    "print(add(2,4))  # Output:6\n",
    "\n",
    "# Lambda function\n",
    "add_lambda = lambda x, y: x + y\n",
    "\n",
    "print(add_lambda(2, 4))  # Output:6\n"
   ]
  },
  {
   "cell_type": "markdown",
   "id": "fc60a6a9",
   "metadata": {},
   "source": [
    "Both the regular function and the lambda function produce the same result when called with the arguments (2, 4). However, the lambda function is defined in a more concise manner and doesn't require a function name and a return statement. "
   ]
  },
  {
   "cell_type": "markdown",
   "id": "088c415b",
   "metadata": {},
   "source": [
    "2. Can a lambda function in Python have multiple arguments? If yes, how can you define and use\n",
    "them?"
   ]
  },
  {
   "cell_type": "markdown",
   "id": "827d60ea",
   "metadata": {},
   "source": [
    "Ans - Yes, lambda function in Python can have multiple arguments. To define multiple arguments in a lambda function, we used to separate them with commas."
   ]
  },
  {
   "cell_type": "code",
   "execution_count": 5,
   "id": "60b912ab",
   "metadata": {},
   "outputs": [
    {
     "name": "stdout",
     "output_type": "stream",
     "text": [
      "9\n"
     ]
    }
   ],
   "source": [
    "addition = lambda x, y, z: x + y + z\n",
    "\n",
    "print(addition(2,3,4))"
   ]
  },
  {
   "cell_type": "markdown",
   "id": "d3f26e79",
   "metadata": {},
   "source": [
    "3. How are lambda functions typically used in Python? Provide an example use case."
   ]
  },
  {
   "cell_type": "markdown",
   "id": "3cf9a5e1",
   "metadata": {},
   "source": [
    "Ans - Lambda functions in Python are commonly used in situations where a small, anonymous function is needed for a short period of time. They are often used as arguments to higher-order functions like map(), filter(), or sort(), where a function is required but doesn't need to be defined separately."
   ]
  },
  {
   "cell_type": "code",
   "execution_count": 6,
   "id": "bdfab2ea",
   "metadata": {},
   "outputs": [
    {
     "name": "stdout",
     "output_type": "stream",
     "text": [
      "[1, 4, 9, 16, 25]\n"
     ]
    }
   ],
   "source": [
    "numbers = [1, 2, 3, 4, 5]\n",
    "\n",
    "squared_numbers = list(map(lambda x: x ** 2, numbers))\n",
    "print(squared_numbers)  \n"
   ]
  },
  {
   "cell_type": "markdown",
   "id": "5bee427c",
   "metadata": {},
   "source": [
    "4. What are the advantages and limitations of lambda functions compared to regular functions in\n",
    "Python?"
   ]
  },
  {
   "cell_type": "markdown",
   "id": "43a24a81",
   "metadata": {},
   "source": [
    "Ans - Advantages :\n",
    "\n",
    "i) Lambda functions are readable & concise function as they are compact in-line function which makes it easy to read.\n",
    "\n",
    "ii) They are anonymous function so they don't require any other name. \n"
   ]
  },
  {
   "cell_type": "markdown",
   "id": "8b7b9729",
   "metadata": {},
   "source": [
    "limitations : \n",
    "    \n",
    "i) Unlike regular expression, they can't contain multiple statements, so we can't use them during complex codes and logic.\n",
    "\n",
    "ii) Due to its concise nature lambda functions lack some functionalities that regular functions offers like docstrings, default arguments, or variable annotations.\n",
    "\n",
    "iii) Since lambda function is anonymous and inline, it cannot be reused easily at other parts of the code. \n",
    "    \n"
   ]
  },
  {
   "cell_type": "markdown",
   "id": "7331c454",
   "metadata": {},
   "source": [
    "5. Are lambda functions in Python able to access variables defined outside of their own scope?\n",
    "Explain with an example."
   ]
  },
  {
   "cell_type": "markdown",
   "id": "e42bd3e4",
   "metadata": {},
   "source": [
    "Ans - Yes, lambda functions in Python can access variables defined outside of their own scope."
   ]
  },
  {
   "cell_type": "code",
   "execution_count": 17,
   "id": "9b5039fe",
   "metadata": {},
   "outputs": [
    {
     "name": "stdout",
     "output_type": "stream",
     "text": [
      "50\n"
     ]
    }
   ],
   "source": [
    "def multiplier(n):\n",
    "    return lambda x: x * n\n",
    "\n",
    "print(multiplier(5)(10))\n"
   ]
  },
  {
   "cell_type": "markdown",
   "id": "ff394299",
   "metadata": {},
   "source": [
    "6. Write a lambda function to calculate the square of a given number."
   ]
  },
  {
   "cell_type": "code",
   "execution_count": 18,
   "id": "590a0dc3",
   "metadata": {},
   "outputs": [
    {
     "name": "stdout",
     "output_type": "stream",
     "text": [
      "9\n"
     ]
    }
   ],
   "source": [
    "square = lambda x: x**2\n",
    "\n",
    "print(square(3))\n"
   ]
  },
  {
   "cell_type": "markdown",
   "id": "3653d0b9",
   "metadata": {},
   "source": [
    "7. Create a lambda function to find the maximum value in a list of integers."
   ]
  },
  {
   "cell_type": "code",
   "execution_count": 19,
   "id": "131214c7",
   "metadata": {},
   "outputs": [
    {
     "name": "stdout",
     "output_type": "stream",
     "text": [
      "201\n"
     ]
    }
   ],
   "source": [
    "list = [201,4,56,78,91,]\n",
    "\n",
    "max_value = lambda list : max(list)  # max() is a function used to find maximum value\n",
    "\n",
    "print(max_value(list))"
   ]
  },
  {
   "cell_type": "markdown",
   "id": "9186ef8d",
   "metadata": {},
   "source": [
    "8. Implement a lambda function to filter out all the even numbers from a list of integers."
   ]
  },
  {
   "cell_type": "code",
   "execution_count": 22,
   "id": "941fed82",
   "metadata": {},
   "outputs": [
    {
     "name": "stdout",
     "output_type": "stream",
     "text": [
      "[2, 62]\n"
     ]
    }
   ],
   "source": [
    "list = [2,3,45,62,41]\n",
    "\n",
    "even_numbers = lambda list : [ x for x in list if x % 2 == 0 ]\n",
    "\n",
    "print(even_numbers(list))\n"
   ]
  },
  {
   "cell_type": "markdown",
   "id": "cdcd5144",
   "metadata": {},
   "source": [
    "9. Write a lambda function to sort a list of strings in ascending order based on the length of each\n",
    "string."
   ]
  },
  {
   "cell_type": "code",
   "execution_count": 29,
   "id": "f0cda946",
   "metadata": {},
   "outputs": [
    {
     "name": "stdout",
     "output_type": "stream",
     "text": [
      "['dogie', 'applesewww', 'mangofdfdfdfsfdfffsd']\n"
     ]
    }
   ],
   "source": [
    "list = [\"applesewww\",\"mangofdfdfdfsfdfffsd\",\"dogie\"]\n",
    "\n",
    "ascending_list = lambda list : sorted ((list),key = lambda x : len (x))\n",
    "\n",
    "print(ascending_list (list))\n"
   ]
  },
  {
   "cell_type": "markdown",
   "id": "dcacfd6e",
   "metadata": {},
   "source": [
    "10. Create a lambda function that takes two lists as input and returns a new list containing the\n",
    "common elements between the two lists."
   ]
  },
  {
   "cell_type": "code",
   "execution_count": 2,
   "id": "6bce58a1",
   "metadata": {},
   "outputs": [
    {
     "name": "stdout",
     "output_type": "stream",
     "text": [
      "[12, 13, 14]\n"
     ]
    }
   ],
   "source": [
    "list1 = [12,13,14,15,16,17,18,19,20,22]\n",
    "\n",
    "list2 = [12,13,14,1,2,3,4]\n",
    "\n",
    "common_elements_list = lambda list1, list2 : list(filter (lambda x : x in list1, list2))\n",
    "\n",
    "print (common_elements_list (list1, list2))"
   ]
  },
  {
   "cell_type": "markdown",
   "id": "11eab25e",
   "metadata": {},
   "source": [
    "11. Write a recursive function to calculate the factorial of a given positive integer."
   ]
  },
  {
   "cell_type": "code",
   "execution_count": 3,
   "id": "3cdbc750",
   "metadata": {},
   "outputs": [
    {
     "name": "stdout",
     "output_type": "stream",
     "text": [
      "120\n"
     ]
    }
   ],
   "source": [
    "def factorial(n):\n",
    "    if n == 0 or n == 1:\n",
    "        return 1\n",
    "    else:\n",
    "        return n * factorial(n - 1)\n",
    "\n",
    "n = 5\n",
    "print( factorial(5))  # factorial 5 = 5 * factorial 4 = 5*4*3*2*1"
   ]
  },
  {
   "cell_type": "markdown",
   "id": "77e8179f",
   "metadata": {},
   "source": [
    "12. Implement a recursive function to compute the nth Fibonacci number."
   ]
  },
  {
   "cell_type": "markdown",
   "id": "9d9973be",
   "metadata": {},
   "source": [
    "Ans - Fibonacci no. is the no. which starts from 0 and 1(0,1...) and each number is the sum of the preceding two nos."
   ]
  },
  {
   "cell_type": "code",
   "execution_count": 4,
   "id": "f0421e7f",
   "metadata": {},
   "outputs": [
    {
     "name": "stdout",
     "output_type": "stream",
     "text": [
      "13\n"
     ]
    }
   ],
   "source": [
    "def fibonacci(n):  \n",
    "    if n <= 0:\n",
    "        return None\n",
    "    elif n == 1 or n == 2:\n",
    "        return 1\n",
    "    else:\n",
    "        return fibonacci(n - 1) + fibonacci(n - 2)\n",
    "    \n",
    "n = 7\n",
    "print(fibonacci(7))  # 7th fibonacci number is 13 (0,0,1,2,3,5,8,13,21...)"
   ]
  },
  {
   "cell_type": "markdown",
   "id": "8929e75d",
   "metadata": {},
   "source": [
    "13. Create a recursive function to find the sum of all the elements in a given list."
   ]
  },
  {
   "cell_type": "code",
   "execution_count": 3,
   "id": "5bb76be5",
   "metadata": {},
   "outputs": [
    {
     "name": "stdout",
     "output_type": "stream",
     "text": [
      "20\n"
     ]
    }
   ],
   "source": [
    "n = [2,3,4,5,6]\n",
    "\n",
    "def sum_list(n):\n",
    "    if len(n) == 0:\n",
    "        return 0\n",
    "    else:\n",
    "        return sum(n)\n",
    "\n",
    "print(sum_list(n))"
   ]
  },
  {
   "cell_type": "markdown",
   "id": "80b9e3d3",
   "metadata": {},
   "source": [
    "14. Write a recursive function to determine whether a given string is a palindrome."
   ]
  },
  {
   "cell_type": "code",
   "execution_count": 2,
   "id": "e7d7b930",
   "metadata": {},
   "outputs": [
    {
     "name": "stdout",
     "output_type": "stream",
     "text": [
      "False\n"
     ]
    }
   ],
   "source": [
    "def is_palindrome(string):\n",
    "    if len(string) <= 1:\n",
    "        return True\n",
    "    elif string[0] == string[-1]:\n",
    "        return is_palindrome(string[1:-1])\n",
    "    else:\n",
    "        return False\n",
    "    \n",
    "string = \"baby\"\n",
    "print (is_palindrome(string))"
   ]
  },
  {
   "cell_type": "code",
   "execution_count": 1,
   "id": "39e0215e",
   "metadata": {},
   "outputs": [
    {
     "name": "stdout",
     "output_type": "stream",
     "text": [
      "False\n"
     ]
    }
   ],
   "source": [
    "# abccba\n",
    "def is_palindrome(string):\n",
    "    if len(string) <= 1:\n",
    "        return True\n",
    "    elif string[0] == string[-1]:\n",
    "        return is_palindrome(string[1:-1])\n",
    "    else:\n",
    "        return False\n",
    "    \n",
    "string = \"babuhb\"\n",
    "print(is_palindrome(string))"
   ]
  },
  {
   "cell_type": "code",
   "execution_count": 4,
   "id": "a5b55baf",
   "metadata": {},
   "outputs": [
    {
     "data": {
      "text/plain": [
       "'b'"
      ]
     },
     "execution_count": 4,
     "metadata": {},
     "output_type": "execute_result"
    }
   ],
   "source": [
    "string = \"babuhb\"\n",
    "string[0]"
   ]
  },
  {
   "cell_type": "code",
   "execution_count": 5,
   "id": "668cda2c",
   "metadata": {},
   "outputs": [
    {
     "data": {
      "text/plain": [
       "'b'"
      ]
     },
     "execution_count": 5,
     "metadata": {},
     "output_type": "execute_result"
    }
   ],
   "source": [
    "string = \"babuhb\"\n",
    "string[-1]"
   ]
  },
  {
   "cell_type": "markdown",
   "id": "599d843c",
   "metadata": {},
   "source": [
    "15. Implement a recursive function to find the greatest common divisor (GCD) of two positive integers."
   ]
  },
  {
   "cell_type": "code",
   "execution_count": 12,
   "id": "23c06261",
   "metadata": {},
   "outputs": [
    {
     "name": "stdout",
     "output_type": "stream",
     "text": [
      "2\n"
     ]
    }
   ],
   "source": [
    "def gcd(a, b):\n",
    "    if b == 0:\n",
    "        return a\n",
    "    else:\n",
    "        return gcd(b, a % b)\n",
    "\n",
    "a = 4\n",
    "b = 6\n",
    "print(gcd(a,b))  "
   ]
  }
 ],
 "metadata": {
  "kernelspec": {
   "display_name": "Python 3 (ipykernel)",
   "language": "python",
   "name": "python3"
  },
  "language_info": {
   "codemirror_mode": {
    "name": "ipython",
    "version": 3
   },
   "file_extension": ".py",
   "mimetype": "text/x-python",
   "name": "python",
   "nbconvert_exporter": "python",
   "pygments_lexer": "ipython3",
   "version": "3.10.9"
  }
 },
 "nbformat": 4,
 "nbformat_minor": 5
}
