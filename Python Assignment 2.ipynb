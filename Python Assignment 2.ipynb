{
 "cells": [
  {
   "cell_type": "markdown",
   "id": "cf035b76",
   "metadata": {},
   "source": [
    "Q1. What are the two values of the Boolean data type? How do you write them?\n"
   ]
  },
  {
   "cell_type": "markdown",
   "id": "b84bb952",
   "metadata": {},
   "source": [
    "Ans1. The two values of boolean datatype are 'True' and 'False'.'True' is written as T uppercase and rest of letters as lowercase, 'False' is written as F uppercase and rest of letters as lowercase."
   ]
  },
  {
   "cell_type": "markdown",
   "id": "8586049b",
   "metadata": {},
   "source": [
    "Q2. What are the three different types of Boolean operators?\n"
   ]
  },
  {
   "cell_type": "markdown",
   "id": "f043936f",
   "metadata": {},
   "source": [
    "Ans. i) AND : It results 'True ' if both operands are 'True' and 'False' otherwise. It is represented by 'and'.   "
   ]
  },
  {
   "cell_type": "markdown",
   "id": "94612abb",
   "metadata": {},
   "source": [
    "ii) OR : It results 'True' if atleast one of the operands is 'True' and 'False' otherwise' It is represented by 'or'."
   ]
  },
  {
   "cell_type": "markdown",
   "id": "384396ab",
   "metadata": {},
   "source": [
    "iii) NOT : It results the opposite boolean value of its operand, if the operand is 'True' it results 'False' and if the operand is 'False' it results 'True'. It is represented by 'not'."
   ]
  },
  {
   "cell_type": "markdown",
   "id": "a2b8f9f5",
   "metadata": {},
   "source": [
    "Q3. Make a list of each Boolean operator's truth tables (i.e. every possible combination of Boolean values for the operator and what it evaluate )."
   ]
  },
  {
   "cell_type": "code",
   "execution_count": null,
   "id": "4b628a08",
   "metadata": {},
   "outputs": [],
   "source": [
    "Ans3. AND ('and'): Operand 1          operand 2                Result \n",
    "                   True               True                     True                                 \n",
    "                   True               False                    False\n",
    "                   False              True                     False\n",
    "                   False              False                    False"
   ]
  },
  {
   "cell_type": "code",
   "execution_count": null,
   "id": "5009648b",
   "metadata": {},
   "outputs": [],
   "source": [
    "OR ('0r'):           Operand 1          operand 2                Result \n",
    "                     True               True                     True                                 \n",
    "                     True               False                    True\n",
    "                     False              True                     True\n",
    "                     False              False                    False"
   ]
  },
  {
   "cell_type": "code",
   "execution_count": null,
   "id": "b4513809",
   "metadata": {},
   "outputs": [],
   "source": [
    "NOT ('not'):     Operand         Result\n",
    "                 True            False\n",
    "                 False           True"
   ]
  },
  {
   "cell_type": "markdown",
   "id": "37afca80",
   "metadata": {},
   "source": [
    "Q4. What are the values of the following expressions?\n",
    "\n",
    "(5 > 4) and (3 == 5)\n",
    "not (5 > 4)\n",
    "(5 > 4) or (3 == 5)\n",
    "not ((5 > 4) or (3 == 5))\n",
    "(True and True) and (True == False)\n",
    "(not False) or (not True)\n"
   ]
  },
  {
   "cell_type": "code",
   "execution_count": null,
   "id": "301f6bbc",
   "metadata": {},
   "outputs": [],
   "source": [
    "Ans4. i) (5 > 4) and (3 == 5) results 'False'\n",
    "ii) not (5 > 4) results 'False'\n",
    "iii) (5 > 4) or (3 == 5) results 'True'\n",
    "iv) not ((5 > 4) or (3 == 5)) results 'False'\n",
    "v) (True and True) and (True == False) results 'False'\n",
    "vi) (not False) or (not True) results 'True'\n"
   ]
  },
  {
   "cell_type": "markdown",
   "id": "d4504cfd",
   "metadata": {},
   "source": [
    "Q5. What are the six comparison operators?"
   ]
  },
  {
   "cell_type": "markdown",
   "id": "9cd903a7",
   "metadata": {},
   "source": [
    "Ans5. i) Equal to ('=='): This operator checks if two operands are equal and results 'Tru' or 'False' otherwise."
   ]
  },
  {
   "cell_type": "markdown",
   "id": "bab8bc02",
   "metadata": {},
   "source": [
    "ii) Not equal to ('!='): This operator checks if two operands are not equal and results 'True' or 'False' otherwise.e' or 'False' otherwise."
   ]
  },
  {
   "cell_type": "markdown",
   "id": "d8b411c6",
   "metadata": {},
   "source": [
    "ii) Not equal to ('!='): This operator checks if two operands are not equal and results 'True' or 'False' otherwise."
   ]
  },
  {
   "cell_type": "markdown",
   "id": "c4a65210",
   "metadata": {},
   "source": [
    "iii) Greater than ('>'): This operator checks if the left operand is greater than right operand and results 'True' or 'False' otherwise."
   ]
  },
  {
   "cell_type": "markdown",
   "id": "6b4bd952",
   "metadata": {},
   "source": [
    "iv) Less than ('<'): This operator checks if the left operand is less than right operand and results 'True' or 'False' otherwise."
   ]
  },
  {
   "cell_type": "markdown",
   "id": "0eb58c0e",
   "metadata": {},
   "source": [
    "v) Greater than or equal to ('>='): This operator checks if the left operand is greater than or equal to right operand and results 'True' or 'False' otherwise."
   ]
  },
  {
   "cell_type": "markdown",
   "id": "0f53d647",
   "metadata": {},
   "source": [
    "vi) Less than or equal to ( '<='): This operator checks if the left operand is less than or equal to right operand and results 'True' or 'False' otherwise."
   ]
  },
  {
   "cell_type": "markdown",
   "id": "f284b27c",
   "metadata": {},
   "source": [
    "Q6. How do you tell the difference between the equal to and assignment operators?Describe a condition and when you would use one.\n"
   ]
  },
  {
   "cell_type": "markdown",
   "id": "da05c936",
   "metadata": {},
   "source": [
    "Ans6. Equal to ('=='): This is used for comparison, this operator checks if two operands are equal and results 'True' or 'False' otherwise. Below is the e.g: "
   ]
  },
  {
   "cell_type": "code",
   "execution_count": 6,
   "id": "18000b88",
   "metadata": {},
   "outputs": [],
   "source": [
    "x=5"
   ]
  },
  {
   "cell_type": "code",
   "execution_count": 7,
   "id": "c03830f1",
   "metadata": {},
   "outputs": [],
   "source": [
    "y=7"
   ]
  },
  {
   "cell_type": "code",
   "execution_count": 13,
   "id": "7b32d4ae",
   "metadata": {},
   "outputs": [
    {
     "data": {
      "text/plain": [
       "False"
      ]
     },
     "execution_count": 13,
     "metadata": {},
     "output_type": "execute_result"
    }
   ],
   "source": [
    "x==7"
   ]
  },
  {
   "cell_type": "markdown",
   "id": "c49e1a45",
   "metadata": {},
   "source": [
    "Assignment ('='): This is used for assigning the value to a variable. Below is the e.g:"
   ]
  },
  {
   "cell_type": "code",
   "execution_count": null,
   "id": "2fd71a32",
   "metadata": {},
   "outputs": [],
   "source": [
    "x=5"
   ]
  },
  {
   "cell_type": "code",
   "execution_count": 15,
   "id": "8d377868",
   "metadata": {},
   "outputs": [],
   "source": [
    "y=x+2"
   ]
  },
  {
   "cell_type": "code",
   "execution_count": 16,
   "id": "c0a9a94d",
   "metadata": {},
   "outputs": [
    {
     "data": {
      "text/plain": [
       "7"
      ]
     },
     "execution_count": 16,
     "metadata": {},
     "output_type": "execute_result"
    }
   ],
   "source": [
    "y"
   ]
  },
  {
   "cell_type": "code",
   "execution_count": null,
   "id": "2cde24b4",
   "metadata": {},
   "outputs": [],
   "source": [
    "7. Identify the three blocks in this code:\n",
    "    \n",
    "spam = 0\n",
    "print('eggs')\n",
    "if spam == 10:\n",
    "if spam > 5:\n",
    "print('bacon')\n",
    "else:\n",
    "print('ham')\n",
    "print('spam')\n",
    "print('spam')"
   ]
  },
  {
   "cell_type": "code",
   "execution_count": null,
   "id": "3b03f4a6",
   "metadata": {},
   "outputs": [],
   "source": [
    "Ans7.\n",
    "\n",
    "Block 1:\n",
    "spam = 0\n",
    "print('eggs')\n",
    "if spam == 10:\n",
    "    \n",
    "Block 2 : \n",
    "if spam > 5:\n",
    "print('bacon')\n",
    "\n",
    "Block 3: \n",
    "else:\n",
    "print('ham')\n",
    "print('spam')\n",
    "print('spam')"
   ]
  },
  {
   "cell_type": "markdown",
   "id": "ef386c40",
   "metadata": {},
   "source": [
    "Q8. Write code that prints Hello if 1 is stored in spam, prints Howdy if 2 is stored in spam, and prints Greetings! if anything else is stored in spam.\n"
   ]
  },
  {
   "cell_type": "code",
   "execution_count": 3,
   "id": "90cb061d",
   "metadata": {},
   "outputs": [
    {
     "name": "stdout",
     "output_type": "stream",
     "text": [
      "Hello\n",
      "Greetings\n"
     ]
    }
   ],
   "source": [
    "spam=1\n",
    "if spam==1:\n",
    "    print ('Hello')\n",
    "if spam==2:\n",
    "    print ('Howdy')\n",
    "else :\n",
    "    print(\"Greetings\")"
   ]
  },
  {
   "cell_type": "markdown",
   "id": "414eadeb",
   "metadata": {},
   "source": [
    "Q9. If your programme is stuck in an endless loop, what keys you’ll press?"
   ]
  },
  {
   "cell_type": "markdown",
   "id": "52573a28",
   "metadata": {},
   "source": [
    "Ans9. We will press Ctrl+C, Ctrl+Break, **Ctrl+** if our programme is stuck in an endless loop."
   ]
  },
  {
   "cell_type": "markdown",
   "id": "485eada2",
   "metadata": {},
   "source": [
    "Q10. 10. How can you tell the difference between break and continue?"
   ]
  },
  {
   "cell_type": "markdown",
   "id": "86407fd3",
   "metadata": {},
   "source": [
    "Ans10. Break is used to exit or terminate the current loop midway and jump to the next code. "
   ]
  },
  {
   "cell_type": "markdown",
   "id": "a2288cf0",
   "metadata": {},
   "source": [
    "Continue keeps on executing the code if the condition satisfies and it only stops when the condition fails.   "
   ]
  },
  {
   "cell_type": "markdown",
   "id": "e046c2a3",
   "metadata": {},
   "source": [
    "Q11. In a for loop, what is the difference between range(10), range(0, 10), and range(0, 10, 1)?"
   ]
  },
  {
   "cell_type": "markdown",
   "id": "dac709d8",
   "metadata": {},
   "source": [
    "Ans-range(10), range(0, 10), and range(0, 10, 1) results the same sequence of the numbers from 0 to 9. "
   ]
  },
  {
   "cell_type": "markdown",
   "id": "c334755c",
   "metadata": {},
   "source": [
    "Q12. Write a short program that prints the numbers 1 to 10 using a for loop. Then write an equivalent program that prints the numbers 1 to 10 using a while loop.\n"
   ]
  },
  {
   "cell_type": "code",
   "execution_count": 1,
   "id": "cc33c690",
   "metadata": {},
   "outputs": [
    {
     "name": "stdout",
     "output_type": "stream",
     "text": [
      "0\n",
      "1\n",
      "2\n",
      "3\n",
      "4\n",
      "5\n",
      "6\n",
      "7\n",
      "8\n",
      "9\n"
     ]
    }
   ],
   "source": [
    "for i in range (10):\n",
    "    print (i)"
   ]
  },
  {
   "cell_type": "code",
   "execution_count": 2,
   "id": "06ecf7f3",
   "metadata": {},
   "outputs": [
    {
     "name": "stdout",
     "output_type": "stream",
     "text": [
      "0\n",
      "1\n",
      "2\n",
      "3\n",
      "4\n",
      "5\n",
      "6\n",
      "7\n",
      "8\n",
      "9\n"
     ]
    }
   ],
   "source": [
    "i=0\n",
    "while i<10:\n",
    "    print(i)\n",
    "    i=i+1"
   ]
  },
  {
   "cell_type": "markdown",
   "id": "90228709",
   "metadata": {},
   "source": [
    "Q13. If you had a function named bacon() inside a module named spam, how would you call it after importing spam?"
   ]
  },
  {
   "cell_type": "markdown",
   "id": "daf3580f",
   "metadata": {},
   "source": [
    "import spam :\n",
    "    "
   ]
  },
  {
   "cell_type": "markdown",
   "id": "599e8983",
   "metadata": {},
   "source": [
    "spam.bacon()"
   ]
  },
  {
   "cell_type": "code",
   "execution_count": null,
   "id": "7a8861ff",
   "metadata": {},
   "outputs": [],
   "source": []
  }
 ],
 "metadata": {
  "kernelspec": {
   "display_name": "Python 3 (ipykernel)",
   "language": "python",
   "name": "python3"
  },
  "language_info": {
   "codemirror_mode": {
    "name": "ipython",
    "version": 3
   },
   "file_extension": ".py",
   "mimetype": "text/x-python",
   "name": "python",
   "nbconvert_exporter": "python",
   "pygments_lexer": "ipython3",
   "version": "3.10.9"
  }
 },
 "nbformat": 4,
 "nbformat_minor": 5
}
