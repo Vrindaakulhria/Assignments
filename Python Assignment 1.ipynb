{
 "cells": [
  {
   "cell_type": "markdown",
   "id": "4dae54eb",
   "metadata": {},
   "source": [
    "Q1  In the below elements which of them are values or an expression? eg:- values can be integer or string and expressions will     be mathematical operators.\n",
    "\n",
    "      *\n",
    "   'hello'\n",
    "     -87.8\n",
    "     -\n",
    "     /\n",
    "     +\n",
    "     6"
   ]
  },
  {
   "cell_type": "markdown",
   "id": "152378e4",
   "metadata": {},
   "source": [
    "Ans1   Values: 'hello' -87.8  6    \n",
    "       Expression:  *  -  /  +"
   ]
  },
  {
   "cell_type": "markdown",
   "id": "2fc546dd",
   "metadata": {},
   "source": [
    "Q2  What is the difference between string and variable?"
   ]
  },
  {
   "cell_type": "markdown",
   "id": "dd0c99df",
   "metadata": {},
   "source": [
    "Ans2  String: It is a datatype which contains single or multiple characters/lines enclosed with single, double or triple\n",
    "              quotes.\n",
    "               e.g:   \"1\",     'cat' ,    'Dog123e=+fR' , 'F-2',    '''R*5'''"
   ]
  },
  {
   "cell_type": "markdown",
   "id": "b8658ab7",
   "metadata": {},
   "source": [
    " Variable: It is used to store various type of data, values and we can access or manipulate its stored value while \n",
    "                programming anytime in future.\n",
    "                e.g:   age = 25   name = \"John kit\"  numbers=[1, 2, 3, 4, 5]  where age,name,numbers are variables holding                     the values respectively"
   ]
  },
  {
   "cell_type": "markdown",
   "id": "17166843",
   "metadata": {},
   "source": [
    "Q3  Describe three different data types?"
   ]
  },
  {
   "cell_type": "markdown",
   "id": "ae9ebb6b",
   "metadata": {},
   "source": [
    "Ans3  i) Integers(int): The integer data type consists of whole numbers. It can be either positive or negative but 0 will    r                         remain same .\n",
    "                        e.g: 0,-1, 2\n",
    "                        \n",
    "      ii) String(str): It is a datatype which contains single or multiple characters/lines enclosed with single, double or                            triple quotes.\n",
    "                       e.g: \"1\"  'cat'  'Dog123e=+fR'  'F-2'  '''R*5''' \n",
    "                       \n",
    "      iii) List(list): List datatype contains the collection of items separated by comma enclosed within square brackets [].\n",
    "                       e.g: [1,2,\"apple\",'Mango',\"efg12+=0\"]"
   ]
  },
  {
   "cell_type": "markdown",
   "id": "f2c93a82",
   "metadata": {},
   "source": [
    "Q4  What is an expression made up of? What do all expressions do?"
   ]
  },
  {
   "cell_type": "markdown",
   "id": "7cfc5e52",
   "metadata": {},
   "source": [
    "Ans4   Expression - An expression is a combination of operators(+, -, *, /) and operands to produce the result.\n",
    "                    e.g in 2*5=10 expression 2 & 5 are operands, * = are operators, 10 is the result.\n",
    "       \n",
    "     \n",
    "     \n",
    "    \n",
    "    "
   ]
  },
  {
   "cell_type": "markdown",
   "id": "3dce6989",
   "metadata": {},
   "source": [
    "Expressions produce result/value after being interpreted by python."
   ]
  },
  {
   "cell_type": "markdown",
   "id": "3f154170",
   "metadata": {},
   "source": [
    "Q5  This assignment statements, like spam=10. What is the difference between an expression and a statement?"
   ]
  },
  {
   "cell_type": "markdown",
   "id": "1d9e5c83",
   "metadata": {},
   "source": [
    "Ans5  Expression - An expression is a combination of operators (+, -, *, /) and operands to produce the result.\n",
    "                   e.g in 2*5=10 expression 2 & 5 are operands, * = are operators, 10 is the result.\n",
    "    \n",
    "      "
   ]
  },
  {
   "cell_type": "markdown",
   "id": "c2cd9d99",
   "metadata": {},
   "source": [
    " Statement -  A statement is an instruction which is executed by python interpreter or in simple words we can                                say that whatever we write in python cell is a statement.  \n",
    "                   e.g a=10  "
   ]
  },
  {
   "cell_type": "markdown",
   "id": "d98c1d4e",
   "metadata": {},
   "source": [
    "Q6  After running the following code, what does the variable bacon contain?\n",
    "    bacon = 22\n",
    "    bacon + 1\n",
    "    "
   ]
  },
  {
   "cell_type": "code",
   "execution_count": 1,
   "id": "28d5128c",
   "metadata": {},
   "outputs": [],
   "source": [
    "bacon=22"
   ]
  },
  {
   "cell_type": "code",
   "execution_count": 2,
   "id": "9e0c12b8",
   "metadata": {},
   "outputs": [
    {
     "data": {
      "text/plain": [
       "22"
      ]
     },
     "execution_count": 2,
     "metadata": {},
     "output_type": "execute_result"
    }
   ],
   "source": [
    "bacon"
   ]
  },
  {
   "cell_type": "code",
   "execution_count": 3,
   "id": "4c6cf812",
   "metadata": {},
   "outputs": [
    {
     "data": {
      "text/plain": [
       "23"
      ]
     },
     "execution_count": 3,
     "metadata": {},
     "output_type": "execute_result"
    }
   ],
   "source": [
    "bacon+1"
   ]
  },
  {
   "cell_type": "markdown",
   "id": "249c8997",
   "metadata": {},
   "source": [
    "Q7  What should be the values of the following two terms be?\n",
    "    'spam' + 'spamspam'\n",
    "    'spam' * 3"
   ]
  },
  {
   "cell_type": "code",
   "execution_count": 4,
   "id": "469e2c70",
   "metadata": {},
   "outputs": [
    {
     "data": {
      "text/plain": [
       "'spamspamspam'"
      ]
     },
     "execution_count": 4,
     "metadata": {},
     "output_type": "execute_result"
    }
   ],
   "source": [
    "'spam' + 'spamspam'"
   ]
  },
  {
   "cell_type": "code",
   "execution_count": 5,
   "id": "383f7fe4",
   "metadata": {},
   "outputs": [
    {
     "data": {
      "text/plain": [
       "'spamspamspam'"
      ]
     },
     "execution_count": 5,
     "metadata": {},
     "output_type": "execute_result"
    }
   ],
   "source": [
    "'spam' * 3"
   ]
  },
  {
   "cell_type": "markdown",
   "id": "53fd181e",
   "metadata": {},
   "source": [
    "Q8  Why is eggs a valid variable name while 100 is invalid?"
   ]
  },
  {
   "cell_type": "markdown",
   "id": "2a220458",
   "metadata": {},
   "source": [
    "Ans8  Variable name can only contain letters, digits and underscore. It can't start with a digit, it must start with either \n",
    "      a letter or an underscore. Therefore, eggs is a valid variable name while 100 is invalid because it starts with digit."
   ]
  },
  {
   "cell_type": "markdown",
   "id": "8f4916ad",
   "metadata": {},
   "source": [
    "Q9  What three functions can be used to get the integer, floating-point number, or string version of a value?"
   ]
  },
  {
   "cell_type": "markdown",
   "id": "0d2899ca",
   "metadata": {},
   "source": [
    "Ans9   'int()' is used to get the integer, 'float()' is used to get floating-point number and 'str()' is used for string version \n",
    "       of a value."
   ]
  },
  {
   "cell_type": "markdown",
   "id": "f78fd2fe",
   "metadata": {},
   "source": [
    "Q10  Why does this expression cause an error? How can you fix it? \n",
    "     'I have eaten' + 99 + 'burritos'"
   ]
  },
  {
   "cell_type": "markdown",
   "id": "392ee7c1",
   "metadata": {},
   "source": [
    "Ans10   In the above expression we are adding an integer with two string using + operator. So remove the error by converting 99         to string\n",
    "        i.e 'I have eaten' + str(99) + 'burritos'"
   ]
  }
 ],
 "metadata": {
  "kernelspec": {
   "display_name": "Python 3 (ipykernel)",
   "language": "python",
   "name": "python3"
  },
  "language_info": {
   "codemirror_mode": {
    "name": "ipython",
    "version": 3
   },
   "file_extension": ".py",
   "mimetype": "text/x-python",
   "name": "python",
   "nbconvert_exporter": "python",
   "pygments_lexer": "ipython3",
   "version": "3.10.9"
  }
 },
 "nbformat": 4,
 "nbformat_minor": 5
}
