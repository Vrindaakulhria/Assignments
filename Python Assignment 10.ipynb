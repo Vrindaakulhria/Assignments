{
 "cells": [
  {
   "cell_type": "markdown",
   "id": "c916b803",
   "metadata": {},
   "source": [
    "1. What is the role of try and exception block?"
   ]
  },
  {
   "cell_type": "markdown",
   "id": "1128e090",
   "metadata": {},
   "source": [
    "Ans - The role of a try-except block is to handle exceptions or errors that may occur during the execution of a program.The try block contains the code that may raise an exception. If an exception occurs within the try block, the program immediately jumps to the corresponding except block, bypassing the rest of the code in the try block."
   ]
  },
  {
   "cell_type": "markdown",
   "id": "e600e401",
   "metadata": {},
   "source": [
    "2. What is the syntax for a basic try-except block?"
   ]
  },
  {
   "cell_type": "raw",
   "id": "6aaccadb",
   "metadata": {},
   "source": [
    "try:\n",
    "    # Code that may raise an exception\n",
    "except ExceptionType:\n",
    "    # Code to handle the exception"
   ]
  },
  {
   "cell_type": "markdown",
   "id": "6f327df2",
   "metadata": {},
   "source": [
    "3. What happens if an exception occurs inside a try block and there is no matching\n",
    "except block?"
   ]
  },
  {
   "cell_type": "markdown",
   "id": "4819aecd",
   "metadata": {},
   "source": [
    "Ans - If an exception occurs inside a try block and there is no matching except block to handle the exception type, the program will terminate and an error message like \"unhandled exception\" or \"uncaught exception\" will be displayed. The error message also includes information about the type of exception and the line of code where the exception occured."
   ]
  },
  {
   "cell_type": "markdown",
   "id": "a9bc62c0",
   "metadata": {},
   "source": [
    "4. What is the difference between using a bare except block and specifying a specific\n",
    "exception type?"
   ]
  },
  {
   "cell_type": "markdown",
   "id": "42edb75f",
   "metadata": {},
   "source": [
    "Ans - i) Specifying specific exception type :\n",
    "When you specify a specific exception type in the except block, it will only catch exceptions of that particular type or its subclasses.\n",
    "\n",
    "This allows you to provide targeted handling for specific exceptions, which can help you handle different exceptions in different ways."
   ]
  },
  {
   "cell_type": "markdown",
   "id": "033dbd22",
   "metadata": {},
   "source": [
    "ii) bare except block :\n",
    "When you use a bare except block, it will catch exceptions of any type, including built-in exceptions and custom exceptions you create.\n",
    "\n",
    "This can be useful for capturing unexpected exceptions and preventing the program from abruptly terminating."
   ]
  },
  {
   "cell_type": "markdown",
   "id": "4796151d",
   "metadata": {},
   "source": [
    "5. Can you have nested try-except blocks in Python? If yes, then give an example."
   ]
  },
  {
   "cell_type": "markdown",
   "id": "7e411c8a",
   "metadata": {},
   "source": [
    "Ans - Yes, we can have nested try-except blocks in python. This means that you can have a try-except block inside another try or except block. This allows you to handle exceptions at different levels of your code more minutely."
   ]
  },
  {
   "cell_type": "code",
   "execution_count": 1,
   "id": "89971646",
   "metadata": {},
   "outputs": [
    {
     "name": "stdout",
     "output_type": "stream",
     "text": [
      "Enter a number: 56\n",
      "Result: 1.7857142857142858\n"
     ]
    }
   ],
   "source": [
    "try:\n",
    "    # Outer try block\n",
    "    num = int(input(\"Enter a number: \"))\n",
    "    \n",
    "    try:\n",
    "        # Inner try block\n",
    "        result = 100 / num\n",
    "        print(\"Result:\", result)\n",
    "    except ZeroDivisionError:\n",
    "        # Inner except block\n",
    "        print(\"Cannot divide by zero!\")\n",
    "        \n",
    "except ValueError:\n",
    "    # Outer except block\n",
    "    print(\"Invalid input! Please enter a valid number.\")"
   ]
  },
  {
   "cell_type": "markdown",
   "id": "1dfab810",
   "metadata": {},
   "source": [
    "6. Can we use multiple exception blocks, if yes then give an example."
   ]
  },
  {
   "cell_type": "markdown",
   "id": "662772ab",
   "metadata": {},
   "source": [
    "Ans - Yes, we can use multiple exception blocks. "
   ]
  },
  {
   "cell_type": "code",
   "execution_count": 2,
   "id": "931df849",
   "metadata": {},
   "outputs": [
    {
     "name": "stdout",
     "output_type": "stream",
     "text": [
      "Enter a number: 34\n",
      "Result: 0.29411764705882354\n"
     ]
    }
   ],
   "source": [
    "try:\n",
    "    # Code that may raise exceptions\n",
    "    x = int(input(\"Enter a number: \"))\n",
    "    result = 10 / x\n",
    "    print(\"Result:\", result)\n",
    "except ValueError:\n",
    "    # Handling ValueError\n",
    "    print(\"Invalid input! Please enter a valid number.\")\n",
    "except ZeroDivisionError:\n",
    "    # Handling ZeroDivisionError\n",
    "    print(\"Cannot divide by zero!\")\n",
    "except Exception as e:\n",
    "    # Handling any other exceptions\n",
    "    print(\"An error occurred:\", str(e))"
   ]
  },
  {
   "cell_type": "raw",
   "id": "9918b250",
   "metadata": {},
   "source": [
    "7. Write the reason due to which following errors are raised:\n",
    "a. EOFError\n",
    "b. FloatingPointError\n",
    "c. IndexError\n",
    "d. MemoryError\n",
    "e. OverflowError\n",
    "f. TabError\n",
    "g. ValueError"
   ]
  },
  {
   "cell_type": "markdown",
   "id": "bd34754d",
   "metadata": {},
   "source": [
    "Ans - \n",
    "\n",
    "a. EOF Error - \"End-of-LineError\" occurs when python has reached the end of user input without receiving any input. And python print out the input in variable string when no data is given.\n",
    "\n",
    "b. FloatingPointError: This error is raised when a floating-point operation fails to produce a valid result. It can occur in situations when we wre dividing by zero or when an operation exceeds the limits of floating-point representation.\n",
    "\n",
    "c. IndexError: This error is raised when you try to access an index or position that is outside the range of valid indices in a sequence, such as a list or a string. It occurs when attempting to access an element at an index that does not exist.\n",
    "\n",
    "d. MemoryError: This error is raised when the program runs out of available memory to allocate for objects or data structures. It occurs when there is insufficient memory to fulfill an allocation request, often when working with large data or intensive programs.\n",
    "\n",
    "e. OverflowError: This error is raised when a mathematical operation exceeds the maximum representable value for a numeric type.\n",
    "\n",
    "f. TabError: This error is raised when there is an issue with the indentation of code using tabs and spaces inconsistently.\n",
    "\n",
    "g. ValueError: It occurs when the input value is inappropriate or cannot be interpreted correctly such as passing a string to a function expecting an integer.\n"
   ]
  },
  {
   "cell_type": "raw",
   "id": "143a9d4f",
   "metadata": {},
   "source": [
    "8. Write code for the following given scenario and add try-exception block to it.\n",
    "a. Program to divide two numbers\n",
    "b. Program to convert a string to an integer\n",
    "c. Program to access an element in a list\n",
    "d. Program to handle a specific exception\n",
    "e. Program to handle any exception"
   ]
  },
  {
   "cell_type": "markdown",
   "id": "e4095bca",
   "metadata": {},
   "source": [
    "a. Program to divide two numbers"
   ]
  },
  {
   "cell_type": "code",
   "execution_count": 3,
   "id": "1630d64b",
   "metadata": {},
   "outputs": [
    {
     "name": "stdout",
     "output_type": "stream",
     "text": [
      "Enter the first number: 12.67\n",
      "Enter the second number: 34.9\n",
      "Result: 0.36303724928366765\n"
     ]
    }
   ],
   "source": [
    "try:\n",
    "    num1 = float(input(\"Enter the first number: \"))\n",
    "    num2 = float(input(\"Enter the second number: \"))\n",
    "    result = num1 / num2\n",
    "    print(\"Result:\", result)\n",
    "except ZeroDivisionError:\n",
    "    print(\"Cannot divide by zero!\")"
   ]
  },
  {
   "cell_type": "markdown",
   "id": "346881f7",
   "metadata": {},
   "source": [
    "b. Program to convert a string to an integer"
   ]
  },
  {
   "cell_type": "code",
   "execution_count": 2,
   "id": "e7e8d4ba",
   "metadata": {},
   "outputs": [
    {
     "name": "stdout",
     "output_type": "stream",
     "text": [
      "Enter a number: 24\n",
      "Converted integer: 24\n"
     ]
    }
   ],
   "source": [
    "try:\n",
    "    string_num = input(\"Enter a number: \")\n",
    "    num = int(string_num)\n",
    "    print(\"Converted integer:\", num)\n",
    "except ValueError:\n",
    "    print(\"Invalid input! Please enter a valid integer.\")"
   ]
  },
  {
   "cell_type": "markdown",
   "id": "a0d90794",
   "metadata": {},
   "source": [
    "c. Program to access an element in a list:"
   ]
  },
  {
   "cell_type": "code",
   "execution_count": 1,
   "id": "41c3e7ff",
   "metadata": {},
   "outputs": [
    {
     "name": "stdout",
     "output_type": "stream",
     "text": [
      "Enter an index: 4\n",
      "Element at index 4 : 5\n"
     ]
    }
   ],
   "source": [
    "try:\n",
    "    my_list = [1, 2, 3, 4, 5]\n",
    "    index = int(input(\"Enter an index: \"))\n",
    "    element = my_list[index]\n",
    "    print(\"Element at index\", index, \":\", element)\n",
    "except IndexError:\n",
    "    print(\"Invalid index! Please enter a valid index within the list.\")"
   ]
  },
  {
   "cell_type": "markdown",
   "id": "949c51f2",
   "metadata": {},
   "source": [
    "d. Program to handle a specific exception"
   ]
  },
  {
   "cell_type": "code",
   "execution_count": 5,
   "id": "cfcbf3e3",
   "metadata": {},
   "outputs": [
    {
     "name": "stdout",
     "output_type": "stream",
     "text": [
      "Error: Cannot divide by zero!\n"
     ]
    }
   ],
   "source": [
    "def specific_exception():\n",
    "    try:\n",
    "        # Code that may raise a specific exception\n",
    "        x = 10 / 0\n",
    "    except ZeroDivisionError:\n",
    "        print(\"Error: Cannot divide by zero!\")\n",
    "\n",
    "# Usage\n",
    "specific_exception()  # Output: Error: Cannot divide by zero!"
   ]
  },
  {
   "cell_type": "markdown",
   "id": "a147a3e7",
   "metadata": {},
   "source": [
    "e. Program to handle any exception"
   ]
  },
  {
   "cell_type": "code",
   "execution_count": 6,
   "id": "02695364",
   "metadata": {},
   "outputs": [
    {
     "name": "stdout",
     "output_type": "stream",
     "text": [
      "Error occurred: division by zero\n"
     ]
    }
   ],
   "source": [
    "def handle_any_exception():\n",
    "    try:\n",
    "        # Code that may raise an exception\n",
    "        x = 10 / 0\n",
    "    except Exception as e:\n",
    "        print(\"Error occurred:\", str(e))\n",
    "\n",
    "# Usage\n",
    "handle_any_exception()  # Output: Error occurred: division by zero"
   ]
  }
 ],
 "metadata": {
  "kernelspec": {
   "display_name": "Python 3 (ipykernel)",
   "language": "python",
   "name": "python3"
  },
  "language_info": {
   "codemirror_mode": {
    "name": "ipython",
    "version": 3
   },
   "file_extension": ".py",
   "mimetype": "text/x-python",
   "name": "python",
   "nbconvert_exporter": "python",
   "pygments_lexer": "ipython3",
   "version": "3.10.9"
  }
 },
 "nbformat": 4,
 "nbformat_minor": 5
}
