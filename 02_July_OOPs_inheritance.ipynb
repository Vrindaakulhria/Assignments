{
 "cells": [
  {
   "cell_type": "markdown",
   "id": "893a7018",
   "metadata": {},
   "source": [
    "1. Explain what inheritance is in object-oriented programming and why it is used."
   ]
  },
  {
   "cell_type": "markdown",
   "id": "c4a2bf0f",
   "metadata": {},
   "source": [
    "Ans - Inheritance is a fundamental concept in object-oriented programming (OOP) that allows you to create a new class (subclass or derived class) based on an existing class (superclass or base class). Inheritance establishes an \"is-a\" relationship between classes, where the subclass inherits attributes and methods from its superclass. This enables code reuse, promotes modularity, and facilitates the creation of more specialized classes by extending the behavior of existing classes."
   ]
  },
  {
   "cell_type": "markdown",
   "id": "d83973e0",
   "metadata": {},
   "source": [
    "2. Discuss the concept of single inheritance and multiple inheritance, highlighting their\n",
    "differences and advantages."
   ]
  },
  {
   "cell_type": "raw",
   "id": "23753f1b",
   "metadata": {},
   "source": [
    "Ans 2. Single inheritance is a type of inheritance where a class can inherit attributes and methods from only one superclass. In other words, a subclass can have only one direct parent class. This creates a linear hierarchy of classes, with each subclass extending the functionality of its single superclass. Single inheritance is simpler to manage as it avoids the complexities that can arise from inheriting from multiple sources.\n",
    "\n",
    "Advantages of Single Inheritance:\n",
    "\n",
    "1.Simplicity: Single inheritance leads to a straightforward class hierarchy, making the code easier to understand and maintain.\n",
    "2.Avoiding Diamond Problem: The diamond problem is a complication that can arise in multiple inheritance when a class inherits from two classes that have a common ancestor. Single inheritance eliminates this problem since there is only one parent class.\n",
    "3.Reduced Ambiguity: With only one parent class, there is no ambiguity regarding the source of inherited attributes and methods.\n",
    "\n",
    "Multiple Inheritance:\n",
    "\n",
    "Multiple inheritance is a type of inheritance where a class can inherit attributes and methods from more than one superclass. In this case, a subclass can have multiple direct parent classes. While multiple inheritance provides greater flexibility and code reuse, it can introduce complexities, especially in scenarios where conflicts arise due to duplicate or ambiguous method and attribute names in different superclasses.\n",
    "\n",
    "Advantages of Multiple Inheritance:\n",
    "\n",
    "1.Code Reusability: Multiple inheritance allows a class to inherit attributes and methods from multiple sources, promoting extensive code reuse.\n",
    "2.Specialization: By inheriting from multiple classes, a subclass can combine features from various parent classes to create more specialized behaviors.\n",
    "3.Modularity: Multiple inheritance can help in creating modular and well-organized code by separating different concerns into different parent classes.\n",
    "\n",
    "Differences and Considerations:\n",
    "\n",
    "1.Structure: In single inheritance, the class hierarchy is linear, with a clear parent-child relationship. In multiple inheritance, the class hierarchy becomes more complex, forming a directed acyclic graph.\n",
    "2.Conflicts: Multiple inheritance can lead to naming conflicts if two or more parent classes define attributes or methods with the same name. This requires careful handling to avoid ambiguity.\n",
    "3.Diamond Problem: The diamond problem is a situation where a class inherits from two classes that share a common ancestor. In multiple inheritance, this can lead to ambiguity in method resolution. Various programming languages provide mechanisms to address this issue.\n",
    "4.Complexity: Multiple inheritance can introduce greater complexity in code design, maintenance, and debugging due to the interactions between multiple parent classes."
   ]
  },
  {
   "cell_type": "markdown",
   "id": "3cf0ee19",
   "metadata": {},
   "source": [
    "3. Explain the terms \"base class\" and \"derived class\" in the context of inheritance."
   ]
  },
  {
   "cell_type": "markdown",
   "id": "320076b6",
   "metadata": {},
   "source": [
    "Ans- \n",
    "In the context of inheritance, the terms \"base class\" and \"derived class\" refer to the classes involved in an inheritance relationship. These terms describe the roles and relationships between classes when one class inherits from another.\n",
    "\n",
    "Base Class (Superclass or Parent Class):\n",
    "A base class, also known as a superclass or parent class, is the class from which attributes and methods are inherited. It serves as the foundation for creating more specialized classes. The base class defines a common set of attributes and methods that can be shared by multiple derived classes. It provides a template that the derived classes build upon.\n",
    "\n",
    "Derived Class (Subclass or Child Class):\n",
    "A derived class, also known as a subclass or child class, is the class that inherits attributes and methods from a base class. It extends the functionality of the base class by adding its own unique attributes and methods or by overriding methods inherited from the base class. The derived class can also introduce additional attributes and behaviors specific to its requirements."
   ]
  },
  {
   "cell_type": "markdown",
   "id": "3a56790b",
   "metadata": {},
   "source": [
    "4. What is the significance of the \"protected\" access modifier in inheritance? How does\n",
    "it differ from \"private\" and \"public\" modifiers?"
   ]
  },
  {
   "cell_type": "markdown",
   "id": "9bbad00f",
   "metadata": {},
   "source": [
    "Ans - In summary, the significance of the \"protected\" access modifier in inheritance lies in its indication that a class member is intended for internal use within the class and its derived classes. While the language itself doesn't enforce protection, using naming conventions like a single underscore helps communicate the intended usage of these members. This can help prevent unintended external access and modifications.\n",
    "\n",
    "The key differences between \"private,\" \"protected,\" and \"public\" access modifiers are related to their intended usage, visibility, and accessibility:\n",
    "\n",
    "~ Private: Not accessible from outside the class directly. Used to encapsulate and protect implementation details.\n",
    "\n",
    "~ Protected: Typically used to indicate that a member is meant for internal use within the class and its subclasses. Not strictly enforced by the language.\n",
    "\n",
    "~ Public: Accessible from anywhere. Defines the external interface of the class, allowing interaction from outside the class.\n",
    "\n",
    "\n",
    "\n"
   ]
  },
  {
   "cell_type": "markdown",
   "id": "99a3e930",
   "metadata": {},
   "source": [
    "5. What is the purpose of the \"super\" keyword in inheritance? Provide an example."
   ]
  },
  {
   "cell_type": "markdown",
   "id": "5543b322",
   "metadata": {},
   "source": [
    "Ans - The primary purpose of the super keyword is to avoid redundancy and promote code reuse by leveraging the existing behavior of the superclass."
   ]
  },
  {
   "cell_type": "code",
   "execution_count": 1,
   "id": "01fdd2ce",
   "metadata": {},
   "outputs": [
    {
     "name": "stdout",
     "output_type": "stream",
     "text": [
      "Buddy says Woof!\n",
      "Whiskers says Meow!\n",
      "Polly says Squawk!\n",
      "Max says Woof! Hello, I can talk too!\n"
     ]
    }
   ],
   "source": [
    "class Animal:\n",
    "    def __init__(self, name):\n",
    "        self.name = name\n",
    "\n",
    "    def speak(self):\n",
    "        pass\n",
    "\n",
    "class Dog(Animal):\n",
    "    def speak(self):\n",
    "        return f\"{self.name} says Woof!\"\n",
    "\n",
    "class Cat(Animal):\n",
    "    def speak(self):\n",
    "        return f\"{self.name} says Meow!\"\n",
    "\n",
    "class Parrot(Animal):\n",
    "    def speak(self):\n",
    "        return f\"{self.name} says Squawk!\"\n",
    "\n",
    "class TalkingDog(Dog):\n",
    "    def speak(self):\n",
    "        return f\"{self.name} says Woof! Hello, I can talk too!\"\n",
    "\n",
    "# Creating instances\n",
    "dog = Dog(\"Buddy\")\n",
    "cat = Cat(\"Whiskers\")\n",
    "parrot = Parrot(\"Polly\")\n",
    "talking_dog = TalkingDog(\"Max\")\n",
    "\n",
    "# Using the speak method\n",
    "print(dog.speak())           # Output: Buddy says Woof!\n",
    "print(cat.speak())           # Output: Whiskers says Meow!\n",
    "print(parrot.speak())        # Output: Polly says Squawk!\n",
    "print(talking_dog.speak())   # Output: Max says Woof! Hello, I can talk too!\n"
   ]
  },
  {
   "cell_type": "code",
   "execution_count": 2,
   "id": "a42f6db0",
   "metadata": {},
   "outputs": [
    {
     "name": "stdout",
     "output_type": "stream",
     "text": [
      "Max says Woof! Hello, I can talk too!\n"
     ]
    }
   ],
   "source": [
    "class TalkingDog(Dog):\n",
    "    def speak(self):\n",
    "        return super().speak() + \" Hello, I can talk too!\"\n",
    "\n",
    "# Creating an instance of TalkingDog\n",
    "talking_dog = TalkingDog(\"Max\")\n",
    "\n",
    "# Using the speak method\n",
    "print(talking_dog.speak())   # Output: Max says Woof! Hello, I can talk too!\n"
   ]
  },
  {
   "cell_type": "markdown",
   "id": "2924d746",
   "metadata": {},
   "source": [
    "6. Create a base class called \"Vehicle\" with attributes like \"make\", \"model\", and \"year\".\n",
    "Then, create a derived class called \"Car\" that inherits from \"Vehicle\" and adds an\n",
    "attribute called \"fuel_type\". Implement appropriate methods in both classes."
   ]
  },
  {
   "cell_type": "code",
   "execution_count": 3,
   "id": "1b89bf63",
   "metadata": {},
   "outputs": [
    {
     "name": "stdout",
     "output_type": "stream",
     "text": [
      "Vehicle Info:\n",
      "Make: Generic\n",
      "Model: Basic\n",
      "Year: 2022\n",
      "\n",
      "Car Info:\n",
      "Make: Toyota\n",
      "Model: Camry\n",
      "Year: 2023\n",
      "Fuel Type: Gasoline\n"
     ]
    }
   ],
   "source": [
    "class Vehicle:\n",
    "    def __init__(self, make, model, year):\n",
    "        self.make = make\n",
    "        self.model = model\n",
    "        self.year = year\n",
    "\n",
    "    def display_info(self):\n",
    "        print(f\"Make: {self.make}\")\n",
    "        print(f\"Model: {self.model}\")\n",
    "        print(f\"Year: {self.year}\")\n",
    "\n",
    "class Car(Vehicle):\n",
    "    def __init__(self, make, model, year, fuel_type):\n",
    "        super().__init__(make, model, year)\n",
    "        self.fuel_type = fuel_type\n",
    "\n",
    "    def display_info(self):\n",
    "        super().display_info()\n",
    "        print(f\"Fuel Type: {self.fuel_type}\")\n",
    "\n",
    "# Creating instances\n",
    "vehicle1 = Vehicle(\"Generic\", \"Basic\", 2022)\n",
    "car1 = Car(\"Toyota\", \"Camry\", 2023, \"Gasoline\")\n",
    "\n",
    "# Using methods\n",
    "print(\"Vehicle Info:\")\n",
    "vehicle1.display_info()\n",
    "print(\"\\nCar Info:\")\n",
    "car1.display_info()\n"
   ]
  },
  {
   "cell_type": "markdown",
   "id": "c7c3cadb",
   "metadata": {},
   "source": [
    "7. Create a base class called \"Employee\" with attributes like \"name\" and \"salary.\"\n",
    "Derive two classes, \"Manager\" and \"Developer,\" from \"Employee.\" Add an additional\n",
    "attribute called \"department\" for the \"Manager\" class and \"programming_language\"\n",
    "for the \"Developer\" class."
   ]
  },
  {
   "cell_type": "code",
   "execution_count": 4,
   "id": "c63c28ac",
   "metadata": {},
   "outputs": [
    {
     "name": "stdout",
     "output_type": "stream",
     "text": [
      "Employee Info:\n",
      "Name: John Doe\n",
      "Salary: $50000\n",
      "\n",
      "Manager Info:\n",
      "Name: Alice Smith\n",
      "Salary: $70000\n",
      "Department: Operations\n",
      "\n",
      "Developer Info:\n",
      "Name: Bob Johnson\n",
      "Salary: $60000\n",
      "Programming Language: Python\n"
     ]
    }
   ],
   "source": [
    "class Employee:\n",
    "    def __init__(self, name, salary):\n",
    "        self.name = name\n",
    "        self.salary = salary\n",
    "\n",
    "    def display_info(self):\n",
    "        print(f\"Name: {self.name}\")\n",
    "        print(f\"Salary: ${self.salary}\")\n",
    "\n",
    "class Manager(Employee):\n",
    "    def __init__(self, name, salary, department):\n",
    "        super().__init__(name, salary)\n",
    "        self.department = department\n",
    "\n",
    "    def display_info(self):\n",
    "        super().display_info()\n",
    "        print(f\"Department: {self.department}\")\n",
    "\n",
    "class Developer(Employee):\n",
    "    def __init__(self, name, salary, programming_language):\n",
    "        super().__init__(name, salary)\n",
    "        self.programming_language = programming_language\n",
    "\n",
    "    def display_info(self):\n",
    "        super().display_info()\n",
    "        print(f\"Programming Language: {self.programming_language}\")\n",
    "\n",
    "# Creating instances\n",
    "employee1 = Employee(\"John Doe\", 50000)\n",
    "manager1 = Manager(\"Alice Smith\", 70000, \"Operations\")\n",
    "developer1 = Developer(\"Bob Johnson\", 60000, \"Python\")\n",
    "\n",
    "# Using methods\n",
    "print(\"Employee Info:\")\n",
    "employee1.display_info()\n",
    "print(\"\\nManager Info:\")\n",
    "manager1.display_info()\n",
    "print(\"\\nDeveloper Info:\")\n",
    "developer1.display_info()\n"
   ]
  },
  {
   "cell_type": "markdown",
   "id": "f36db047",
   "metadata": {},
   "source": [
    "8. Design a base class called \"Shape\" with attributes like \"colour\" and \"border_width.\"\n",
    "Create derived classes, \"Rectangle\" and \"Circle,\" that inherit from \"Shape\" and add\n",
    "specific attributes like \"length\" and \"width\" for the \"Rectangle\" class and \"radius\" for\n",
    "the \"Circle\" class."
   ]
  },
  {
   "cell_type": "code",
   "execution_count": 5,
   "id": "7ae60034",
   "metadata": {},
   "outputs": [
    {
     "name": "stdout",
     "output_type": "stream",
     "text": [
      "Shape Info:\n",
      "Colour: Blue\n",
      "Border Width: 2\n",
      "\n",
      "Rectangle Info:\n",
      "Colour: Red\n",
      "Border Width: 1\n",
      "Length: 10\n",
      "Width: 5\n",
      "\n",
      "Circle Info:\n",
      "Colour: Green\n",
      "Border Width: 3\n",
      "Radius: 7\n"
     ]
    }
   ],
   "source": [
    "class Shape:\n",
    "    def __init__(self, colour, border_width):\n",
    "        self.colour = colour\n",
    "        self.border_width = border_width\n",
    "\n",
    "    def display_info(self):\n",
    "        print(f\"Colour: {self.colour}\")\n",
    "        print(f\"Border Width: {self.border_width}\")\n",
    "\n",
    "class Rectangle(Shape):\n",
    "    def __init__(self, colour, border_width, length, width):\n",
    "        super().__init__(colour, border_width)\n",
    "        self.length = length\n",
    "        self.width = width\n",
    "\n",
    "    def display_info(self):\n",
    "        super().display_info()\n",
    "        print(f\"Length: {self.length}\")\n",
    "        print(f\"Width: {self.width}\")\n",
    "\n",
    "class Circle(Shape):\n",
    "    def __init__(self, colour, border_width, radius):\n",
    "        super().__init__(colour, border_width)\n",
    "        self.radius = radius\n",
    "\n",
    "    def display_info(self):\n",
    "        super().display_info()\n",
    "        print(f\"Radius: {self.radius}\")\n",
    "\n",
    "# Creating instances\n",
    "shape1 = Shape(\"Blue\", 2)\n",
    "rectangle1 = Rectangle(\"Red\", 1, 10, 5)\n",
    "circle1 = Circle(\"Green\", 3, 7)\n",
    "\n",
    "# Using methods\n",
    "print(\"Shape Info:\")\n",
    "shape1.display_info()\n",
    "print(\"\\nRectangle Info:\")\n",
    "rectangle1.display_info()\n",
    "print(\"\\nCircle Info:\")\n",
    "circle1.display_info()\n"
   ]
  },
  {
   "cell_type": "markdown",
   "id": "36fc29ff",
   "metadata": {},
   "source": [
    "9. Create a base class called \"Device\" with attributes like \"brand\" and \"model.\" Derive\n",
    "two classes, \"Phone\" and \"Tablet,\" from \"Device.\" Add specific attributes like\n",
    "\"screen_size\" for the \"Phone\" class and \"battery_capacity\" for the \"Tablet\" class."
   ]
  },
  {
   "cell_type": "code",
   "execution_count": 7,
   "id": "611c8625",
   "metadata": {},
   "outputs": [
    {
     "name": "stdout",
     "output_type": "stream",
     "text": [
      "Device Info:\n",
      "Brand: Generic\n",
      "Model: Basic\n",
      "\n",
      "Phone Info:\n",
      "Brand: Apple\n",
      "Model: iPhone 12\n",
      "Screen Size: 6.1 inches\n",
      "\n",
      "Tablet Info:\n",
      "Brand: Samsung\n",
      "Model: Galaxy Tab S7\n",
      "Battery Capacity: 8000 mAh\n"
     ]
    }
   ],
   "source": [
    "class Device:\n",
    "    def __init__(self, brand, model):\n",
    "        self.brand = brand\n",
    "        self.model = model\n",
    "\n",
    "    def display_info(self):\n",
    "        print(f\"Brand: {self.brand}\")\n",
    "        print(f\"Model: {self.model}\")\n",
    "\n",
    "class Phone(Device):\n",
    "    def __init__(self, brand, model, screen_size):\n",
    "        super().__init__(brand, model)\n",
    "        self.screen_size = screen_size\n",
    "\n",
    "    def display_info(self):\n",
    "        super().display_info()\n",
    "        print(f\"Screen Size: {self.screen_size}\")\n",
    "\n",
    "class Tablet(Device):\n",
    "    def __init__(self, brand, model, battery_capacity):\n",
    "        super().__init__(brand, model)\n",
    "        self.battery_capacity = battery_capacity\n",
    "\n",
    "    def display_info(self):\n",
    "        super().display_info()\n",
    "        print(f\"Battery Capacity: {self.battery_capacity} mAh\")\n",
    "\n",
    "# Creating instances\n",
    "device1 = Device(\"Generic\", \"Basic\")\n",
    "phone1 = Phone(\"Apple\", \"iPhone 12\", \"6.1 inches\")\n",
    "tablet1 = Tablet(\"Samsung\", \"Galaxy Tab S7\", \"8000\")\n",
    "\n",
    "# Using methods\n",
    "print(\"Device Info:\")\n",
    "device1.display_info()\n",
    "print(\"\\nPhone Info:\")\n",
    "phone1.display_info()\n",
    "print(\"\\nTablet Info:\")\n",
    "tablet1.display_info()\n"
   ]
  },
  {
   "cell_type": "markdown",
   "id": "569ad90d",
   "metadata": {},
   "source": [
    "10. Create a base class called \"BankAccount\" with attributes like \"account_number\" and\n",
    "\"balance.\" Derive two classes, \"SavingsAccount\" and \"CheckingAccount,\" from\n",
    "\"BankAccount.\" Add specific methods like \"calculate_interest\" for the\n",
    "\"SavingsAccount\" class and \"deduct_fees\" for the \"CheckingAccount\" class."
   ]
  },
  {
   "cell_type": "code",
   "execution_count": 9,
   "id": "bdd59093",
   "metadata": {},
   "outputs": [
    {
     "name": "stdout",
     "output_type": "stream",
     "text": [
      "Bank Account Info:\n",
      "Account Number: A12345\n",
      "Balance: $1000.00\n",
      "\n",
      "Savings Account Info:\n",
      "Account Number: S54321\n",
      "Balance: $5000.00\n",
      "Interest calculated: $125.00 added to the balance.\n",
      "Account Number: S54321\n",
      "Balance: $5125.00\n",
      "\n",
      "Checking Account Info:\n",
      "Account Number: C98765\n",
      "Balance: $1500.00\n",
      "Transaction fee of $10.00 deducted from the balance.\n",
      "Account Number: C98765\n",
      "Balance: $1490.00\n"
     ]
    }
   ],
   "source": [
    "class BankAccount:\n",
    "    def __init__(self, account_number, balance):\n",
    "        self.account_number = account_number\n",
    "        self.balance = balance\n",
    "\n",
    "    def display_info(self):\n",
    "        print(f\"Account Number: {self.account_number}\")\n",
    "        print(f\"Balance: ${self.balance:.2f}\")\n",
    "\n",
    "class SavingsAccount(BankAccount):\n",
    "    def __init__(self, account_number, balance, interest_rate):\n",
    "        super().__init__(account_number, balance)\n",
    "        self.interest_rate = interest_rate\n",
    "\n",
    "    def calculate_interest(self):\n",
    "        interest = self.balance * (self.interest_rate / 100)\n",
    "        self.balance += interest\n",
    "        print(f\"Interest calculated: ${interest:.2f} added to the balance.\")\n",
    "\n",
    "class CheckingAccount(BankAccount):\n",
    "    def __init__(self, account_number, balance, transaction_fee):\n",
    "        super().__init__(account_number, balance)\n",
    "        self.transaction_fee = transaction_fee\n",
    "\n",
    "    def deduct_fees(self):\n",
    "        self.balance -= self.transaction_fee\n",
    "        print(f\"Transaction fee of ${self.transaction_fee:.2f} deducted from the balance.\")\n",
    "\n",
    "# Creating instances\n",
    "account1 = BankAccount(\"A12345\", 1000)\n",
    "savings_account1 = SavingsAccount(\"S54321\", 5000, 2.5)\n",
    "checking_account1 = CheckingAccount(\"C98765\", 1500, 10)\n",
    "\n",
    "# Using methods\n",
    "print(\"Bank Account Info:\")\n",
    "account1.display_info()\n",
    "print(\"\\nSavings Account Info:\")\n",
    "savings_account1.display_info()\n",
    "savings_account1.calculate_interest()\n",
    "savings_account1.display_info()\n",
    "print(\"\\nChecking Account Info:\")\n",
    "checking_account1.display_info()\n",
    "checking_account1.deduct_fees()\n",
    "checking_account1.display_info()\n"
   ]
  }
 ],
 "metadata": {
  "kernelspec": {
   "display_name": "Python 3 (ipykernel)",
   "language": "python",
   "name": "python3"
  },
  "language_info": {
   "codemirror_mode": {
    "name": "ipython",
    "version": 3
   },
   "file_extension": ".py",
   "mimetype": "text/x-python",
   "name": "python",
   "nbconvert_exporter": "python",
   "pygments_lexer": "ipython3",
   "version": "3.10.9"
  }
 },
 "nbformat": 4,
 "nbformat_minor": 5
}
