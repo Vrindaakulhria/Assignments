{
 "cells": [
  {
   "cell_type": "markdown",
   "id": "ad7c3a84",
   "metadata": {},
   "source": [
    "Q.1. What are keywords in python? Using the keyword library, print all the python keywords."
   ]
  },
  {
   "cell_type": "markdown",
   "id": "5c7ad6bf",
   "metadata": {},
   "source": [
    "Ans - Keywords are the reserved words having their predefined meaning & purpose in python. To print all the keywords, we need to first import the keyword and then access all the keywords using keyword.kwlist and then print the list of keywords."
   ]
  },
  {
   "cell_type": "code",
   "execution_count": 1,
   "id": "920431c5",
   "metadata": {},
   "outputs": [
    {
     "name": "stdout",
     "output_type": "stream",
     "text": [
      "['False', 'None', 'True', 'and', 'as', 'assert', 'async', 'await', 'break', 'class', 'continue', 'def', 'del', 'elif', 'else', 'except', 'finally', 'for', 'from', 'global', 'if', 'import', 'in', 'is', 'lambda', 'nonlocal', 'not', 'or', 'pass', 'raise', 'return', 'try', 'while', 'with', 'yield']\n"
     ]
    }
   ],
   "source": [
    "import keyword\n",
    "l = keyword.kwlist\n",
    "print(l)"
   ]
  },
  {
   "cell_type": "markdown",
   "id": "e67c2a90",
   "metadata": {},
   "source": [
    "Q.2. What are the rules to create variables in python?"
   ]
  },
  {
   "cell_type": "markdown",
   "id": "d3ee1bf3",
   "metadata": {},
   "source": [
    "Ans - i) Variables can only contain alphabets, digits or underscore. "
   ]
  },
  {
   "cell_type": "markdown",
   "id": "8756aebf",
   "metadata": {},
   "source": [
    "iii) Variable can't be the reserved keywords in python. "
   ]
  },
  {
   "cell_type": "markdown",
   "id": "1d5e8437",
   "metadata": {},
   "source": [
    "iii) Variable can only start with an alphabet or underscore. "
   ]
  },
  {
   "cell_type": "markdown",
   "id": "98fadf2e",
   "metadata": {},
   "source": [
    "iv) No white space is allowed inside a variable name."
   ]
  },
  {
   "cell_type": "markdown",
   "id": "d38aa412",
   "metadata": {},
   "source": [
    "Q.3. What are the standards and conventions followed for the nomenclature of variables in\n",
    "python to improve code readability and maintainability?"
   ]
  },
  {
   "cell_type": "markdown",
   "id": "c417a5a8",
   "metadata": {},
   "source": [
    "Ans - i) Snake case - it contains lowercase letters with underscore in between e.g my_list , total_count , user_name etc "
   ]
  },
  {
   "cell_type": "markdown",
   "id": "71fbe168",
   "metadata": {},
   "source": [
    "ii) Descriptive names - Use descriptive and meaningful names which describes the code and makes it more self explanatory eg - students_strength , class_count , total_bill , half_pricerange etc."
   ]
  },
  {
   "cell_type": "markdown",
   "id": "dc7611ee",
   "metadata": {},
   "source": [
    "iii) Avoid Reserved keywords - Avoid using reserved keywords in python. "
   ]
  },
  {
   "cell_type": "markdown",
   "id": "954dced5",
   "metadata": {},
   "source": [
    "iv) Singular and Plural - Try to use singular & plural variables as per the need. Use singular variable if the item it is representing is singular e.g - tables, apples, books etc and use plural keyword if the item it is representing is plural e.g - books, copies, etc. "
   ]
  },
  {
   "cell_type": "markdown",
   "id": "1278877b",
   "metadata": {},
   "source": [
    "v) Constants - If the variables are representing the constants the we can use uppercase for such variable names with underscore in between. e.g - Fruits_price , Rahul_height etc. "
   ]
  },
  {
   "cell_type": "markdown",
   "id": "810e5cee",
   "metadata": {},
   "source": [
    "vi) Camelcase - It starts with uppercase for each word like StudentsRecord, EmployeesSalary, MonthlyRecord, etc."
   ]
  },
  {
   "cell_type": "markdown",
   "id": "674e4a37",
   "metadata": {},
   "source": [
    "Q.4. What will happen if a keyword is used as a variable name?"
   ]
  },
  {
   "cell_type": "markdown",
   "id": "ba0d764b",
   "metadata": {},
   "source": [
    "Ans - If we will use a keyword as a variable name, it will give us syntax error."
   ]
  },
  {
   "cell_type": "markdown",
   "id": "8502444e",
   "metadata": {},
   "source": [
    "Q.5. For what purpose def keyword is used?"
   ]
  },
  {
   "cell_type": "markdown",
   "id": "ce6ffc15",
   "metadata": {},
   "source": [
    "Ans - 'def' keyword is used to define a function."
   ]
  },
  {
   "cell_type": "markdown",
   "id": "b2f61644",
   "metadata": {},
   "source": [
    "Q.6. What is the operation of this special character ‘\\’?"
   ]
  },
  {
   "cell_type": "raw",
   "id": "1574f2ac",
   "metadata": {},
   "source": [
    "Ans - The special character \\ is used in escape sequence characters: \\n for newline, \\t for tab,  \\'for single quote, \\\\ for backslash. "
   ]
  },
  {
   "cell_type": "markdown",
   "id": "1cc0abbf",
   "metadata": {},
   "source": [
    "Q.7. Give an example of the following conditions:\n",
    "(i) Homogeneous list\n",
    "(ii) Heterogeneous set\n",
    "(iii) Homogeneous tuple"
   ]
  },
  {
   "cell_type": "markdown",
   "id": "c0e65a8d",
   "metadata": {},
   "source": [
    "(i) homogeneous list = [1,3,5,67,82] # all the elements have same datatype"
   ]
  },
  {
   "cell_type": "markdown",
   "id": "addda2e0",
   "metadata": {},
   "source": [
    "(ii) heterogeneous set  = {1,True,4.89,\"Rohan\"} # elements are not of same datatype"
   ]
  },
  {
   "cell_type": "markdown",
   "id": "f12e51f5",
   "metadata": {},
   "source": [
    "(iii) homogenous tuple = ('apple','jio','cherry') # all the elements are of same datatype"
   ]
  },
  {
   "cell_type": "markdown",
   "id": "29218c9d",
   "metadata": {},
   "source": [
    "Q.8. Explain the mutable and immutable data types with proper explanation & examples."
   ]
  },
  {
   "cell_type": "markdown",
   "id": "02f040b5",
   "metadata": {},
   "source": [
    "Ans - Mutable data types are those whose values can be changed once assigned. The values can be added, modified or removed in mutable data types. e.g - lists, dictionary and sets. The mutable datatypes are not hashable."
   ]
  },
  {
   "cell_type": "code",
   "execution_count": 5,
   "id": "d1df8edf",
   "metadata": {},
   "outputs": [
    {
     "name": "stdout",
     "output_type": "stream",
     "text": [
      "[1, 2, 3, 4]\n"
     ]
    }
   ],
   "source": [
    "list = [1,2,3]\n",
    "list.append(4)\n",
    "print(list)"
   ]
  },
  {
   "cell_type": "markdown",
   "id": "ec5971cd",
   "metadata": {},
   "source": [
    "Immutable data types are those whose values can't be changed once assigned. These are hashable e.g - integers,strings, boolean, tuples."
   ]
  },
  {
   "cell_type": "code",
   "execution_count": 6,
   "id": "c572f398",
   "metadata": {},
   "outputs": [
    {
     "name": "stdout",
     "output_type": "stream",
     "text": [
      "6\n",
      "4\n"
     ]
    }
   ],
   "source": [
    "a=4\n",
    "b=a\n",
    "a=6\n",
    "print(a)\n",
    "print(b)"
   ]
  },
  {
   "cell_type": "raw",
   "id": "8f9a0baf",
   "metadata": {},
   "source": [
    "Q.9. Write a code to create the given structure using only for loop.\n",
    "*\n",
    "***\n",
    "*****\n",
    "*******\n",
    "*********"
   ]
  },
  {
   "cell_type": "code",
   "execution_count": 4,
   "id": "35b423e8",
   "metadata": {},
   "outputs": [
    {
     "name": "stdout",
     "output_type": "stream",
     "text": [
      "* \n",
      "* * * \n",
      "* * * * * \n",
      "* * * * * * * \n",
      "* * * * * * * * * \n"
     ]
    }
   ],
   "source": [
    "for i in range(5):  # no. of rows = 5\n",
    "    for j in range (2*i+1):\n",
    "        print(\"*\",end = \" \")\n",
    "    print() # next line"
   ]
  },
  {
   "cell_type": "raw",
   "id": "3bfca9dd",
   "metadata": {},
   "source": [
    "Q.10. Write a code to create the given structure using while loop.\n",
    "|||||||||\n",
    "|||||||\n",
    "|||||\n",
    "|||\n",
    "|"
   ]
  },
  {
   "cell_type": "code",
   "execution_count": 7,
   "id": "1cf659db",
   "metadata": {},
   "outputs": [
    {
     "name": "stdout",
     "output_type": "stream",
     "text": [
      "|||||||||\n",
      "\n",
      "|||||||\n",
      "\n",
      "|||||\n",
      "\n",
      "|||\n",
      "\n",
      "|\n",
      "\n"
     ]
    }
   ],
   "source": [
    "rows = 5\n",
    "\n",
    "while rows > 0:\n",
    "    print(\"|\" * (2*rows-1))\n",
    "    rows -= 1"
   ]
  }
 ],
 "metadata": {
  "kernelspec": {
   "display_name": "Python 3 (ipykernel)",
   "language": "python",
   "name": "python3"
  },
  "language_info": {
   "codemirror_mode": {
    "name": "ipython",
    "version": 3
   },
   "file_extension": ".py",
   "mimetype": "text/x-python",
   "name": "python",
   "nbconvert_exporter": "python",
   "pygments_lexer": "ipython3",
   "version": "3.10.9"
  }
 },
 "nbformat": 4,
 "nbformat_minor": 5
}
