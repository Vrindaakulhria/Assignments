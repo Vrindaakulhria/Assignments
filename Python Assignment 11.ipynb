{
 "cells": [
  {
   "cell_type": "code",
   "execution_count": null,
   "id": "e1cca465",
   "metadata": {},
   "outputs": [],
   "source": [
    "\n",
    "\n",
    "\n",
    "\n",
    "\n",
    "\n",
    "\n",
    "\n",
    "\n",
    "\n"
   ]
  },
  {
   "cell_type": "markdown",
   "id": "d5f4ddeb",
   "metadata": {},
   "source": [
    "1. What is the role of the 'else' block in a try-except statement? Provide an example\n",
    "scenario where it would be useful."
   ]
  },
  {
   "cell_type": "markdown",
   "id": "5e938f90",
   "metadata": {},
   "source": [
    "Ans - The 'else' block in a try-except statement is used to specify a block of code that should be executed if no exceptions occur in the try block. It provides an alternative execution path when there are no exceptions raised."
   ]
  },
  {
   "cell_type": "code",
   "execution_count": 1,
   "id": "3323510c",
   "metadata": {},
   "outputs": [
    {
     "name": "stdout",
     "output_type": "stream",
     "text": [
      "Result: 5.0\n",
      "Error: Cannot divide by zero!\n"
     ]
    }
   ],
   "source": [
    "def divide_numbers(a, b):\n",
    "    try:\n",
    "        result = a / b\n",
    "    except ZeroDivisionError:\n",
    "        print(\"Error: Cannot divide by zero!\")\n",
    "    else:\n",
    "        print(\"Result:\", result)\n",
    "\n",
    "# Usage\n",
    "divide_numbers(10, 2)  # Output: Result: 5.0\n",
    "divide_numbers(10, 0)  # Output: Error: Cannot divide by zero!"
   ]
  },
  {
   "cell_type": "markdown",
   "id": "0d6ee5c5",
   "metadata": {},
   "source": [
    "2. Can a try-except block be nested inside another try-except block? Explain with an\n",
    "example."
   ]
  },
  {
   "cell_type": "markdown",
   "id": "18aa23f5",
   "metadata": {},
   "source": [
    "Ans - Yes, we can have nested try-except blocks in python. This means that you can have a try-except block inside another try or except block. This allows you to handle exceptions at different levels of your code more minutely."
   ]
  },
  {
   "cell_type": "code",
   "execution_count": 2,
   "id": "41419848",
   "metadata": {},
   "outputs": [
    {
     "name": "stdout",
     "output_type": "stream",
     "text": [
      "Enter a number: 56\n",
      "Result: 1.7857142857142858\n"
     ]
    }
   ],
   "source": [
    "try:\n",
    "    # Outer try block\n",
    "    num = int(input(\"Enter a number: \"))\n",
    "    \n",
    "    try:\n",
    "        # Inner try block\n",
    "        result = 100 / num\n",
    "        print(\"Result:\", result)\n",
    "    except ZeroDivisionError:\n",
    "        # Inner except block\n",
    "        print(\"Cannot divide by zero!\")\n",
    "        \n",
    "except ValueError:\n",
    "    # Outer except block\n",
    "    print(\"Invalid input! Please enter a valid number.\")"
   ]
  },
  {
   "cell_type": "markdown",
   "id": "da24202e",
   "metadata": {},
   "source": [
    "3. How can you create a custom exception class in Python? Provide an example that\n",
    "demonstrates its usage."
   ]
  },
  {
   "cell_type": "code",
   "execution_count": 3,
   "id": "3c60ee6d",
   "metadata": {},
   "outputs": [
    {
     "name": "stdout",
     "output_type": "stream",
     "text": [
      "MyCustomException: Invalid data: negative values not allowed\n"
     ]
    }
   ],
   "source": [
    "class MyCustomException(Exception):\n",
    "    def __init__(self, message):\n",
    "        self.message = message\n",
    "\n",
    "    def __str__(self):\n",
    "        return f\"MyCustomException: {self.message}\"\n",
    "\n",
    "def process_data(data):\n",
    "    if data < 0:\n",
    "        raise MyCustomException(\"Invalid data: negative values not allowed\")\n",
    "    # Process the data...\n",
    "\n",
    "# Usage\n",
    "try:\n",
    "    data = -10\n",
    "    process_data(data)\n",
    "except MyCustomException as e:\n",
    "    print(e)"
   ]
  },
  {
   "cell_type": "markdown",
   "id": "c1a4fda6",
   "metadata": {},
   "source": [
    "4. What are some common exceptions that are built-in to Python?"
   ]
  },
  {
   "cell_type": "markdown",
   "id": "eca8001c",
   "metadata": {},
   "source": [
    "SyntaxError: Raised when there is a syntax error in the code.\n",
    "\n",
    "TypeError: Raised when an operation or function is applied to an object of an inappropriate type.\n",
    "\n",
    "NameError: Raised when a local or global name is not found.\n",
    "\n",
    "IndexError: Raised when an index is out of range.\n",
    "\n",
    "ValueError: Raised when a function receives an argument of the correct type but with an invalid value.\n",
    "\n",
    "KeyError: Raised when a dictionary key is not found.\n",
    "\n",
    "FileNotFoundError: Raised when a file or directory is not found.\n",
    "\n",
    "ZeroDivisionError: Raised when division operation is performed with zero denominator.\n",
    "\n",
    "IOError: Raised when an input/output operation fails.\n",
    "    \n",
    "ImportError: Raised when an imported module or attribute is not found.\n",
    "\n",
    "\n",
    "\n",
    "\n",
    "\n",
    "\n",
    "\n",
    "\n"
   ]
  },
  {
   "cell_type": "markdown",
   "id": "66c053eb",
   "metadata": {},
   "source": [
    "5. What is logging in Python, and why is it important in software development?"
   ]
  },
  {
   "cell_type": "markdown",
   "id": "e9d6d311",
   "metadata": {},
   "source": [
    "Ans - Logging in Python refers to the process of recording log messages during the execution of a program. It is an essential part of software development as it allows developers to track the flow of their application, monitor its behavior, and diagnose issues or errors.\n",
    "\n",
    "Logging provides several benefits in software development:\n",
    "\n",
    "i) Debugging and Issue Resolution: By incorporating logging statements throughout the code, developers can log relevant information, such as variable values, function calls, or error messages. This helps in identifying and resolving issues, especially in complex systems where it's not always possible to use a debugger.\n",
    "\n",
    "ii) Error Tracking and Analysis: Logging allows developers to record error messages and provides valuable information for troubleshooting and bug fixing.\n",
    "\n",
    "iii) Monitoring and Performance Analysis: Logging can be used to track the performance of an application, record execution times or log specific events. These vhlogs can be analyzed later to identify performance bottlenecks, optimize code, and make informed decisions to improve overall system efficiency.\n",
    "\n",
    "iv) Audit Trails and Compliance: In certain industries or applications, maintaining an audit trail is crucial for security, compliance, or legal reasons. Logging can be used to record user actions, system events, or other relevant information for auditing purposes.\n",
    "\n",
    "v) Long-term Analysis and Historical Data: Logs can be stored and analyzed over time to gain insights into system behavior, patterns, or trends. They can be useful for capacity planning, identifying usage patterns, or detecting anomalies."
   ]
  },
  {
   "cell_type": "markdown",
   "id": "151cab56",
   "metadata": {},
   "source": [
    "6. Explain the purpose of log levels in Python logging and provide examples of when\n",
    "each log level would be appropriate."
   ]
  },
  {
   "cell_type": "markdown",
   "id": "f5420da0",
   "metadata": {},
   "source": [
    "Log levels in Python logging are used to categorize log messages based on their importance or severity. Each log level represents a specific level of severity allowing developers to control which types of messages are recorded or displayed based on their priority\n",
    "\n",
    "The commonly used log levels in Python logging, in increasing order of severity, are:\n",
    "\n",
    "DEBUG: This level is used for detailed debugging information. It is typically used during development to provide fine-grained information about the program's execution, variable values, or function calls. Example usage: Logging the values of variables inside a loop for debugging purposes.\n",
    "\n",
    "INFO: This level provides informational messages that highlight the progress or significant events in the program. It is used to communicate high-level details about the program's execution. Example usage: Logging the start and completion of a significant task or operation.\n",
    "\n",
    "WARNING: This level indicates potential issues or situations that may cause problems but are not critical. It is used to alert developers or administrators about non-fatal issues that may require attention. Example usage: Logging a deprecated feature usage or an unusual but recoverable condition.\n",
    "\n",
    "ERROR: This level represents errors that caused the program to fail or behave unexpectedly. It indicates more severe issues that prevent the program from continuing its execution. Example usage: Logging an exception that was caught and handled, but resulted in an abnormal program flow.\n",
    "\n",
    "CRITICAL: This level is used to log critical errors or failures that require immediate attention. It signifies the most severe level of issues that could potentially lead to the termination or breakdown of the application. Example usage: Logging a fatal error that caused the application to crash or an unrecoverable failure.\n"
   ]
  },
  {
   "cell_type": "markdown",
   "id": "047c3dc8",
   "metadata": {},
   "source": [
    "7. What are log formatters in Python logging, and how can you customise the log\n",
    "message format using formatters?"
   ]
  },
  {
   "cell_type": "markdown",
   "id": "82f5b132",
   "metadata": {},
   "source": [
    "Ans - Log formatters in Python logging are responsible for defining the structure and content of log messages. They specify how log records are formatted before they are emitted to the desired output destinations, such as the console or log files."
   ]
  },
  {
   "cell_type": "code",
   "execution_count": 8,
   "id": "5aa4a8a4",
   "metadata": {},
   "outputs": [
    {
     "name": "stderr",
     "output_type": "stream",
     "text": [
      "2023-07-16 14:24:15,149 - my_logger - DEBUG - This is a debug message\n",
      "2023-07-16 14:24:15,152 - my_logger - INFO - This is an info message\n",
      "2023-07-16 14:24:15,155 - my_logger - WARNING - This is a warning message\n"
     ]
    }
   ],
   "source": [
    "import logging\n",
    "\n",
    "# Create a logger\n",
    "logger = logging.getLogger('my_logger')\n",
    "logger.setLevel(logging.DEBUG)\n",
    "\n",
    "# Create a file handler\n",
    "file_handler = logging.FileHandler('my_log.log')\n",
    "file_handler.setLevel(logging.DEBUG)\n",
    "\n",
    "# Create a formatter\n",
    "formatter = logging.Formatter('%(asctime)s - %(name)s - %(levelname)s - %(message)s')\n",
    "\n",
    "# Assign the formatter to the file handler\n",
    "file_handler.setFormatter(formatter)\n",
    "\n",
    "# Add the file handler to the logger\n",
    "logger.addHandler(file_handler)\n",
    "\n",
    "# Log some messages\n",
    "logger.debug('This is a debug message')\n",
    "logger.info('This is an info message')\n",
    "logger.warning('This is a warning message')\n"
   ]
  },
  {
   "cell_type": "markdown",
   "id": "b662c753",
   "metadata": {},
   "source": [
    "8. How can you set up logging to capture log messages from multiple modules or\n",
    "classes in a Python application?"
   ]
  },
  {
   "cell_type": "markdown",
   "id": "a7aec980",
   "metadata": {},
   "source": [
    "1) Import the logging module:\n",
    "\n",
    "2) Configure the logging settings at the beginning of your application:\n",
    "    \n",
    "3) Set up loggers in individual modules or classes:\n",
    "    \n",
    "4) Log messages using the specific logger:"
   ]
  },
  {
   "cell_type": "code",
   "execution_count": 6,
   "id": "75496a9f",
   "metadata": {},
   "outputs": [
    {
     "name": "stderr",
     "output_type": "stream",
     "text": [
      "2023-07-16 14:22:33,089 - __main__ - DEBUG - This is a debug message\n",
      "2023-07-16 14:22:33,092 - __main__ - INFO - This is an info message\n",
      "2023-07-16 14:22:33,094 - __main__ - WARNING - This is a warning message\n"
     ]
    }
   ],
   "source": [
    "import logging\n",
    "\n",
    "logging.basicConfig(level=logging.DEBUG, format='%(asctime)s - %(name)s - %(levelname)s - %(message)s')\n",
    "\n",
    "logger = logging.getLogger(__name__)\n",
    "\n",
    "logger.debug('This is a debug message')\n",
    "logger.info('This is an info message')\n",
    "logger.warning('This is a warning message')\n"
   ]
  },
  {
   "cell_type": "markdown",
   "id": "d16ac575",
   "metadata": {},
   "source": [
    "9. What is the difference between the logging and print statements in Python? When\n",
    "should you use logging over print statements in a real-world application?"
   ]
  },
  {
   "cell_type": "markdown",
   "id": "052eac44",
   "metadata": {},
   "source": [
    "1) Purpose & Output:\n",
    "\n",
    "Logging: The logging module is designed specifically for generating log messages. It provides a flexible and structured way to record information about the execution of a program. Log messages are typically stored in files, displayed in the console, or sent to other logging handlers for further processing.\n",
    "\n",
    "Print Statements: The print statement is primarily used for simple output to the console. It displays messages directly to the standard output, which is typically the console or terminal.\n",
    "\n",
    "\n",
    "2) Flexibility & Control:\n",
    "\n",
    "Logging: The logging module offers more flexibility and control over log messages. It allows you to define log levels, format log messages, set up multiple loggers, configure different handlers, and filter log output based on various criteria. Logging provides a structured way to categorize and control the level of detail in log messages.\n",
    "\n",
    "Print Statements: Print statements are less flexible compared to logging. They provide a straightforward way to display values or messages, but they lack the control and configuration options available in the logging module.\n",
    "\n",
    "    \n",
    "3) Debugging & maintenance:\n",
    "\n",
    "Logging: Logging is particularly useful for debugging and maintenance. It allows you to record detailed information, variable values, stack traces, and other relevant data during program execution. Log messages can be selectively enabled or disabled, making it easier to debug and diagnose issues. Additionally, log files provide a historical record of application behavior.\n",
    "\n",
    "Print Statements: Print statements can be helpful for simple debugging or quick checks during development. However, they are less suitable for production code or complex debugging scenarios since they lack the fine-grained control and configurability of logging.\n",
    "\n",
    "********************************************************************************************************************************\n",
    "\n",
    "We should use logging over print statements in a real-world application because:\n",
    "\n",
    "Maintainability: Logging provides a standardized way to document and monitor the behavior of your application. Log messages can be easily searched, filtered, and analyzed for troubleshooting or auditing purposes.\n",
    "\n",
    "Granularity and Flexibility: Logging allows you to set different log levels, enabling you to control the level of detail in log output based on the environment (e.g., development, testing, production). It offers more configuration options and supports various logging handlers and formatters.\n",
    "\n",
    "Production Environment: Print statements are often used during development for quick feedback or debugging. However, in a production environment, excessive print statements can clutter the console output and impact performance. Logging allows you to selectively enable or disable log levels, making it suitable for long-term production usage.\n",
    "\n",
    "\n",
    "\n",
    "\n",
    "\n",
    "\n",
    "\n"
   ]
  },
  {
   "cell_type": "raw",
   "id": "593041f5",
   "metadata": {},
   "source": [
    "10. Write a Python program that logs a message to a file named \"app.log\" with the\n",
    "following requirements:\n",
    "● The log message should be \"Hello, World!\"\n",
    "● The log level should be set to \"INFO.\"\n",
    "● The log file should append new log entries without overwriting previous ones."
   ]
  },
  {
   "cell_type": "code",
   "execution_count": 9,
   "id": "49d9cd5f",
   "metadata": {},
   "outputs": [
    {
     "name": "stderr",
     "output_type": "stream",
     "text": [
      "2023-07-16 14:38:57,594 - root - INFO - Hello, World!\n"
     ]
    }
   ],
   "source": [
    "import logging\n",
    "\n",
    "# Configure logging\n",
    "logging.basicConfig(\n",
    "    filename='app.log',\n",
    "    level=logging.INFO,\n",
    "    format='%(asctime)s - %(levelname)s - %(message)s',\n",
    ")\n",
    "\n",
    "# Log the message\n",
    "logging.info('Hello, World!')"
   ]
  },
  {
   "cell_type": "raw",
   "id": "3a9a9781",
   "metadata": {},
   "source": [
    "11. Create a Python program that logs an error message to the console and a file named\n",
    "\"errors.log\" if an exception occurs during the program's execution. The error\n",
    "message should include the exception type and a timestamp."
   ]
  },
  {
   "cell_type": "code",
   "execution_count": 10,
   "id": "48a3af82",
   "metadata": {},
   "outputs": [
    {
     "name": "stderr",
     "output_type": "stream",
     "text": [
      "2023-07-16 14:40:01,419 - root - ERROR - Exception occurred: ZeroDivisionError - 2023-07-16 14:40:01.419771\n",
      "2023-07-16 14:40:01,422 - root - ERROR - Traceback (most recent call last):\n",
      "  File \"C:\\Users\\EXPERT\\AppData\\Local\\Temp\\ipykernel_3404\\2327304546.py\", line 27, in <module>\n",
      "    1 / 0\n",
      "ZeroDivisionError: division by zero\n",
      "\n"
     ]
    },
    {
     "name": "stdout",
     "output_type": "stream",
     "text": [
      "Exception occurred: ZeroDivisionError - 2023-07-16 14:40:01.424772\n",
      "Traceback (most recent call last):\n",
      "  File \"C:\\Users\\EXPERT\\AppData\\Local\\Temp\\ipykernel_3404\\2327304546.py\", line 27, in <module>\n",
      "    1 / 0\n",
      "ZeroDivisionError: division by zero\n",
      "\n"
     ]
    }
   ],
   "source": [
    "import logging\n",
    "import traceback\n",
    "import datetime\n",
    "\n",
    "# Configure logging\n",
    "logging.basicConfig(\n",
    "    level=logging.ERROR,\n",
    "    format='%(asctime)s - %(levelname)s - %(message)s',\n",
    ")\n",
    "\n",
    "# Create a file handler for error log file\n",
    "error_file_handler = logging.FileHandler('errors.log')\n",
    "error_file_handler.setLevel(logging.ERROR)\n",
    "\n",
    "# Create a formatter for error log file\n",
    "error_formatter = logging.Formatter('%(asctime)s - %(levelname)s - %(message)s')\n",
    "error_file_handler.setFormatter(error_formatter)\n",
    "\n",
    "# Add the file handler to the root logger\n",
    "logging.getLogger('').addHandler(error_file_handler)\n",
    "\n",
    "try:\n",
    "    # Your code here\n",
    "    # ...\n",
    "\n",
    "    # Simulate an exception\n",
    "    1 / 0\n",
    "\n",
    "except Exception as e:\n",
    "    # Log the exception\n",
    "    logging.error(f'Exception occurred: {type(e).__name__} - {datetime.datetime.now()}')\n",
    "    logging.error(traceback.format_exc())\n",
    "\n",
    "    # Print the exception to the console\n",
    "    print(f'Exception occurred: {type(e).__name__} - {datetime.datetime.now()}')\n",
    "    print(traceback.format_exc())\n"
   ]
  }
 ],
 "metadata": {
  "kernelspec": {
   "display_name": "Python 3 (ipykernel)",
   "language": "python",
   "name": "python3"
  },
  "language_info": {
   "codemirror_mode": {
    "name": "ipython",
    "version": 3
   },
   "file_extension": ".py",
   "mimetype": "text/x-python",
   "name": "python",
   "nbconvert_exporter": "python",
   "pygments_lexer": "ipython3",
   "version": "3.10.9"
  }
 },
 "nbformat": 4,
 "nbformat_minor": 5
}
