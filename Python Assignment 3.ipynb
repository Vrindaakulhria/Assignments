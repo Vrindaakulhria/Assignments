{
 "cells": [
  {
   "cell_type": "code",
   "execution_count": null,
   "id": "66af4f2e",
   "metadata": {},
   "outputs": [],
   "source": [
    "\n",
    "\n",
    "\n",
    "\n",
    "\n",
    "\n",
    "\n",
    "\n",
    "\n",
    "\n",
    "\n",
    "14. What is the purpose of the try clause? What is the purpose of the except clause?"
   ]
  },
  {
   "cell_type": "markdown",
   "id": "5eb559e8",
   "metadata": {},
   "source": [
    "1. Why are functions advantageous to have in your programs?"
   ]
  },
  {
   "cell_type": "markdown",
   "id": "02fc307c",
   "metadata": {},
   "source": [
    "Ans1 - In function, we can keep or store long values, variable, codes or program which we can access in future. We don't even to write the same data again and again, we just use the function and we are sorted. It makes the long long programming easier,readable and shorter."
   ]
  },
  {
   "cell_type": "markdown",
   "id": "9023185b",
   "metadata": {},
   "source": [
    "2. When does the code in a function run: when it&#39;s specified or when it&#39;s called?"
   ]
  },
  {
   "cell_type": "markdown",
   "id": "fb7472ae",
   "metadata": {},
   "source": [
    "Ans2 - The code in a function runs when the function is called i.e by writing code name followed by parentheses (), then the code inside the func. runs. "
   ]
  },
  {
   "cell_type": "markdown",
   "id": "e8b7776a",
   "metadata": {},
   "source": [
    "3. What statement creates a function?"
   ]
  },
  {
   "cell_type": "markdown",
   "id": "2bfea1a2",
   "metadata": {},
   "source": [
    "Ans3 - We use 'def' keyword to define a function followed by name of the function, then the parentheses () & then colon: "
   ]
  },
  {
   "cell_type": "markdown",
   "id": "c160acf3",
   "metadata": {},
   "source": [
    "4. What is the difference between a function and a function call?"
   ]
  },
  {
   "cell_type": "markdown",
   "id": "94f2737c",
   "metadata": {},
   "source": [
    "Ans4 - Function is just used to store values, codes,information, set of insructions or operation to be carried out by giving input. it is defined by 'def' statement."
   ]
  },
  {
   "cell_type": "markdown",
   "id": "ed91df61",
   "metadata": {},
   "source": [
    "Function call means to execute the function or the code/instructions/values stored inside the function by writing function name followed by parentheses()."
   ]
  },
  {
   "cell_type": "markdown",
   "id": "6fec60bf",
   "metadata": {},
   "source": [
    "5. How many global scopes are there in a Python program? How many local scopes?"
   ]
  },
  {
   "cell_type": "markdown",
   "id": "c0e118e5",
   "metadata": {},
   "source": [
    "Ans5 -  No. of global spaces depend on the no. of modules. There is one global space for one module. And the no. of local scopes depend on the no. of function calls. "
   ]
  },
  {
   "cell_type": "markdown",
   "id": "efb639c7",
   "metadata": {},
   "source": [
    "6. What happens to variables in a local scope when the function call returns?"
   ]
  },
  {
   "cell_type": "markdown",
   "id": "60a2dfff",
   "metadata": {},
   "source": [
    "Ans6 - When the function call returns, the local scope connected with the function destroys and the local variables linked to that local scope exists. This is known as destruction or clean up of the local scope."
   ]
  },
  {
   "cell_type": "markdown",
   "id": "c8dccbfc",
   "metadata": {},
   "source": [
    "7. What is the concept of a return value? Is it possible to have a return value in an expression?"
   ]
  },
  {
   "cell_type": "markdown",
   "id": "fad4d051",
   "metadata": {},
   "source": [
    "Ans7 - Return value is used for the functions which let the function return the value after the function is executed. It is not possible to have a return value outside the function, so it cannot be used in an expression."
   ]
  },
  {
   "cell_type": "markdown",
   "id": "7eb0b3e2",
   "metadata": {},
   "source": [
    "8. If a function does not have a return statement, what is the return value of a call to that function?"
   ]
  },
  {
   "cell_type": "markdown",
   "id": "c7a8d139",
   "metadata": {},
   "source": [
    "Ans8 - If a function doesn't have a return statement then function's return value will be 'None'.'None' indicates the absence of the value."
   ]
  },
  {
   "cell_type": "markdown",
   "id": "70088d3f",
   "metadata": {},
   "source": [
    "9. How do you make a function variable refer to the global variable?"
   ]
  },
  {
   "cell_type": "markdown",
   "id": "c3ce8c0d",
   "metadata": {},
   "source": [
    "Ans 9 - To make a function variable refer to the global variable, global keyword must be used within the function. By using the global keyword with the function variable, we mean that the variable should be treated as global variable."
   ]
  },
  {
   "cell_type": "markdown",
   "id": "6bd716b6",
   "metadata": {},
   "source": [
    "10. What is the data type of None?"
   ]
  },
  {
   "cell_type": "markdown",
   "id": "701bc1a2",
   "metadata": {},
   "source": [
    "Ans 10 - 'NoneType' is the datatype of 'None'."
   ]
  },
  {
   "cell_type": "markdown",
   "id": "ffd56af0",
   "metadata": {},
   "source": [
    "11. What does the sentence import areallyourpetsnamederic do?"
   ]
  },
  {
   "cell_type": "markdown",
   "id": "ac183775",
   "metadata": {},
   "source": [
    "Ans 11 - The sentence import areallyourpetsnamederic is used to import the module named \"areallyourpetsnamederic\" in the program."
   ]
  },
  {
   "cell_type": "markdown",
   "id": "895a68f7",
   "metadata": {},
   "source": [
    "12. If you had a bacon() feature in a spam module, what would you call it after importing spam?"
   ]
  },
  {
   "cell_type": "markdown",
   "id": "ad657d40",
   "metadata": {},
   "source": [
    "Ans 12 - After importing spam, we would use dot . to call the bacon() function. i.e \n"
   ]
  },
  {
   "cell_type": "markdown",
   "id": "ea5b0326",
   "metadata": {},
   "source": [
    "import spam\n"
   ]
  },
  {
   "cell_type": "markdown",
   "id": "84436a9e",
   "metadata": {},
   "source": [
    "spam.bacon()"
   ]
  },
  {
   "cell_type": "markdown",
   "id": "7a7dec1e",
   "metadata": {},
   "source": [
    "13. What can you do to save a programme from crashing if it encounters an error?"
   ]
  },
  {
   "cell_type": "markdown",
   "id": "0275dc0e",
   "metadata": {},
   "source": [
    "Ans 13 - We can use exceptional handling by using blocks try, except, else, finally to catch & manage errors to save the programme from crashing if it encounters an error."
   ]
  },
  {
   "cell_type": "markdown",
   "id": "e6b20851",
   "metadata": {},
   "source": [
    "14. What is the purpose of the try clause? What is the purpose of the except clause?"
   ]
  },
  {
   "cell_type": "markdown",
   "id": "b095ba7f",
   "metadata": {},
   "source": [
    "Ans 14 - try - in this block we keep the code in which an exception or error could occur. \n"
   ]
  },
  {
   "cell_type": "code",
   "execution_count": null,
   "id": "126a4ad7",
   "metadata": {},
   "outputs": [],
   "source": [
    "except - if the exception is raised in the try block then this except block is executed. "
   ]
  }
 ],
 "metadata": {
  "kernelspec": {
   "display_name": "Python 3 (ipykernel)",
   "language": "python",
   "name": "python3"
  },
  "language_info": {
   "codemirror_mode": {
    "name": "ipython",
    "version": 3
   },
   "file_extension": ".py",
   "mimetype": "text/x-python",
   "name": "python",
   "nbconvert_exporter": "python",
   "pygments_lexer": "ipython3",
   "version": "3.10.9"
  }
 },
 "nbformat": 4,
 "nbformat_minor": 5
}
