{
 "cells": [
  {
   "cell_type": "markdown",
   "id": "cdc1eb0c",
   "metadata": {},
   "source": [
    "1. Why are functions advantageous to have in your programs?"
   ]
  },
  {
   "cell_type": "markdown",
   "id": "18597fb0",
   "metadata": {},
   "source": [
    "Ans1 - In function, we can keep or store long values, variable, codes or program which we can access in future. We don't even to write the same data again and again, we just use the function and we are sorted. It makes the long long programming easier,readable and shorter."
   ]
  },
  {
   "cell_type": "markdown",
   "id": "d1fa6590",
   "metadata": {},
   "source": [
    "2. When does the code in a function run: when it&#39;s specified or when it&#39;s called?"
   ]
  },
  {
   "cell_type": "markdown",
   "id": "3eff8b42",
   "metadata": {},
   "source": [
    "Ans2 - The code in a function runs when the function is called i.e by writing code name followed by parentheses (), then the code inside the func. runs. "
   ]
  },
  {
   "cell_type": "markdown",
   "id": "f79e60ad",
   "metadata": {},
   "source": [
    "3. What statement creates a function?"
   ]
  },
  {
   "cell_type": "markdown",
   "id": "75d4d678",
   "metadata": {},
   "source": [
    "Ans3 - We use 'def' keyword to define a function followed by name of the function, then the parentheses () & then colon: "
   ]
  },
  {
   "cell_type": "markdown",
   "id": "5100ed98",
   "metadata": {},
   "source": [
    "4. What is the difference between a function and a function call?"
   ]
  },
  {
   "cell_type": "markdown",
   "id": "d304c10b",
   "metadata": {},
   "source": [
    "Ans4 - Function is just used to store values, codes,information, set of insructions or operation to be carried out by giving input. it is defined by 'def' statement."
   ]
  },
  {
   "cell_type": "markdown",
   "id": "f342e110",
   "metadata": {},
   "source": [
    "Function call means to execute the function or the code/instructions/values stored inside the function by writing function name followed by parentheses()."
   ]
  },
  {
   "cell_type": "markdown",
   "id": "0f043d3f",
   "metadata": {},
   "source": [
    "5. How many global scopes are there in a Python program? How many local scopes?"
   ]
  },
  {
   "cell_type": "markdown",
   "id": "416378aa",
   "metadata": {},
   "source": [
    "Ans5 -  No. of global spaces depend on the no. of modules. There is one global space for one module. And the no. of local scopes depend on the no. of function calls. "
   ]
  },
  {
   "cell_type": "markdown",
   "id": "b4841926",
   "metadata": {},
   "source": [
    "6. What happens to variables in a local scope when the function call returns?"
   ]
  },
  {
   "cell_type": "markdown",
   "id": "cb029aa0",
   "metadata": {},
   "source": [
    "Ans6 - When the function call returns, the local scope connected with the function destroys and the local variables linked to that local scope exists. This is known as destruction or clean up of the local scope."
   ]
  },
  {
   "cell_type": "markdown",
   "id": "f8d1318a",
   "metadata": {},
   "source": [
    "7. What is the concept of a return value? Is it possible to have a return value in an expression?"
   ]
  },
  {
   "cell_type": "markdown",
   "id": "bfdbceba",
   "metadata": {},
   "source": [
    "Ans7 - Return value is used for the functions which let the function return the value after the function is executed. It is not possible to have a return value outside the function, so it cannot be used in an expression."
   ]
  },
  {
   "cell_type": "markdown",
   "id": "ab3e236b",
   "metadata": {},
   "source": [
    "8. If a function does not have a return statement, what is the return value of a call to that function?"
   ]
  },
  {
   "cell_type": "markdown",
   "id": "a7e56a16",
   "metadata": {},
   "source": [
    "Ans8 - If a function doesn't have a return statement then function's return value will be 'None'.'None' indicates the absence of the value."
   ]
  },
  {
   "cell_type": "markdown",
   "id": "f9cae0d3",
   "metadata": {},
   "source": [
    "9. How do you make a function variable refer to the global variable?"
   ]
  },
  {
   "cell_type": "markdown",
   "id": "d6c71935",
   "metadata": {},
   "source": [
    "Ans 9 - To make a function variable refer to the global variable, global keyword must be used within the function. By using the global keyword with the function variable, we mean that the variable should be treated as global variable."
   ]
  },
  {
   "cell_type": "markdown",
   "id": "62ae77eb",
   "metadata": {},
   "source": [
    "10. What is the data type of None?"
   ]
  },
  {
   "cell_type": "markdown",
   "id": "db1f709f",
   "metadata": {},
   "source": [
    "Ans 10 - 'NoneType' is the datatype of 'None'."
   ]
  },
  {
   "cell_type": "markdown",
   "id": "dd1353d7",
   "metadata": {},
   "source": [
    "11. What does the sentence import areallyourpetsnamederic do?"
   ]
  },
  {
   "cell_type": "markdown",
   "id": "e730dc03",
   "metadata": {},
   "source": [
    "Ans 11 - The sentence import areallyourpetsnamederic is used to import the module named \"areallyourpetsnamederic\" in the program."
   ]
  },
  {
   "cell_type": "markdown",
   "id": "904642bc",
   "metadata": {},
   "source": [
    "12. If you had a bacon() feature in a spam module, what would you call it after importing spam?"
   ]
  },
  {
   "cell_type": "markdown",
   "id": "8491c539",
   "metadata": {},
   "source": [
    "Ans 12 - After importing spam, we would use dot . to call the bacon() function. i.e \n"
   ]
  },
  {
   "cell_type": "markdown",
   "id": "f6d95dc9",
   "metadata": {},
   "source": [
    "import spam\n"
   ]
  },
  {
   "cell_type": "markdown",
   "id": "5659c3ce",
   "metadata": {},
   "source": [
    "spam.bacon()"
   ]
  },
  {
   "cell_type": "markdown",
   "id": "85e4faed",
   "metadata": {},
   "source": [
    "13. What can you do to save a programme from crashing if it encounters an error?"
   ]
  },
  {
   "cell_type": "markdown",
   "id": "f8b1d261",
   "metadata": {},
   "source": [
    "Ans 13 - We can use exceptional handling by using blocks try, except, else, finally to catch & manage errors to save the programme from crashing if it encounters an error."
   ]
  },
  {
   "cell_type": "markdown",
   "id": "68f0bb62",
   "metadata": {},
   "source": [
    "14. What is the purpose of the try clause? What is the purpose of the except clause?"
   ]
  },
  {
   "cell_type": "markdown",
   "id": "850adf1a",
   "metadata": {},
   "source": [
    "Ans 14 - try - in this block we keep the code in which an exception or error could occur. \n"
   ]
  },
  {
   "cell_type": "markdown",
   "id": "4f7684c6",
   "metadata": {},
   "source": [
    "except - if the exception is raised in the try block then this except block is executed. "
   ]
  }
 ],
 "metadata": {
  "kernelspec": {
   "display_name": "Python 3 (ipykernel)",
   "language": "python",
   "name": "python3"
  },
  "language_info": {
   "codemirror_mode": {
    "name": "ipython",
    "version": 3
   },
   "file_extension": ".py",
   "mimetype": "text/x-python",
   "name": "python",
   "nbconvert_exporter": "python",
   "pygments_lexer": "ipython3",
   "version": "3.10.9"
  }
 },
 "nbformat": 4,
 "nbformat_minor": 5
}
