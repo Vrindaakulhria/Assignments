{
 "cells": [
  {
   "cell_type": "markdown",
   "id": "85ad318f",
   "metadata": {},
   "source": [
    "1. What is the primary goal of Object-Oriented Programming (OOP)?"
   ]
  },
  {
   "cell_type": "markdown",
   "id": "bba19c50",
   "metadata": {},
   "source": [
    "Ans 1 - The primary goal of Object-Oriented Programming (OOP) is to model real-world entities and their interactions in a software system using the principles of encapsulation, abstraction, inheritance, and polymorphism. By achieving these goals, OOP helps developers build more maintainable, extensible, and understandable software systems that mirror real-world relationships and interactions. "
   ]
  },
  {
   "cell_type": "markdown",
   "id": "8ddfc847",
   "metadata": {},
   "source": [
    "2. What is an object in Python?"
   ]
  },
  {
   "cell_type": "markdown",
   "id": "1b83b8ae",
   "metadata": {},
   "source": [
    "Ans 2 - An object is a specific instance created from a class. It has its own unique data and can perform actions based on the methods defined in its class. Objects can store data and interact with other objects in the program."
   ]
  },
  {
   "cell_type": "markdown",
   "id": "cb0ee1c6",
   "metadata": {},
   "source": [
    "3. What is a class in Python?"
   ]
  },
  {
   "cell_type": "markdown",
   "id": "c199cf54",
   "metadata": {},
   "source": [
    "Ans 3 - A class is a template or a blueprint that defines the structure and behavior of an object. It specifies the attributes (data members) that the object will have and the methods (functions) that can be applied to the object. Classes serve as the foundation for creating instances (objects)."
   ]
  },
  {
   "cell_type": "markdown",
   "id": "3b3724d7",
   "metadata": {},
   "source": [
    "4. What are attributes and methods in a class?"
   ]
  },
  {
   "cell_type": "markdown",
   "id": "42e657e8",
   "metadata": {},
   "source": [
    "Ans 4 - Attributes: Attributes, also known as properties or data members, are variables that store data associated with an object. They represent the characteristics or state of the object. Attributes define what an object is and what it can hold. For example, if you have a class representing a Person, attributes could include name, age, and gender.\n",
    "\n",
    "Methods are functions defined within a class that define the behavior or actions that objects of the class can perform. Methods define how an object interacts with its own data and with other objects. For example, if you have a Car class, methods could include start_engine(), accelerate(), and brake()."
   ]
  },
  {
   "cell_type": "markdown",
   "id": "8afe4cf5",
   "metadata": {},
   "source": [
    "5. What is the difference between class variables and instance variables in Python?"
   ]
  },
  {
   "cell_type": "markdown",
   "id": "2900bc6a",
   "metadata": {},
   "source": [
    "Ans 5 - Class variables are shared among all instances (objects) of a class. They are defined within the class but outside any instance methods.These variables are associated with the class itself rather than with individual instances. They are often used to store data that is common to all instances of the class. Changes to a class variable are reflected in all instances of the class. They are accessed using the class name or through instances of the class.\n",
    "     \n",
    "Instance variables are unique to each instance of a class. They are defined within the class's methods, typically within the __init__ constructor. These variables hold specific data for each individual instance. Instance variables are accessed and manipulated using the instance itself. Changes to an instance variable affect only the specific instance it belongs to.\n",
    "      "
   ]
  },
  {
   "cell_type": "markdown",
   "id": "493134f3",
   "metadata": {},
   "source": [
    "6. What is the purpose of the self parameter in Python class methods?"
   ]
  },
  {
   "cell_type": "markdown",
   "id": "73d54721",
   "metadata": {},
   "source": [
    "Ans 6 -In Python, the self parameter in class methods serves as a reference to the instance of the class itself. It's a convention used to access and modify the attributes and methods of the instance within the class methods. The name self is not a strict requirement; however, it's a widely followed convention and helps make the code more readable and maintainable."
   ]
  },
  {
   "cell_type": "raw",
   "id": "b6ee538d",
   "metadata": {},
   "source": [
    "7. For a library management system, you have to design the \"Book\" class with OOP\n",
    "principles in mind. The “Book” class will have following attributes:\n",
    "a. title: Represents the title of the book.\n",
    "b. author: Represents the author(s) of the book.\n",
    "c. isbn: Represents the ISBN (International Standard Book Number) of the book.\n",
    "d. publication_year: Represents the year of publication of the book.\n",
    "e. available_copies: Represents the number of copies available for checkout.\n",
    "The class will also include the following methods:\n",
    "a. check_out(self): Decrements the available copies by one if there are copies\n",
    "available for checkout.\n",
    "b. return_book(self): Increments the available copies by one when a book is\n",
    "returned.\n",
    "c. display_book_info(self): Displays the information about the book, including its\n",
    "attributes and the number of available copies."
   ]
  },
  {
   "cell_type": "code",
   "execution_count": 2,
   "id": "0333d3ac",
   "metadata": {},
   "outputs": [
    {
     "name": "stdout",
     "output_type": "stream",
     "text": [
      "Book 'The Great Gatsby' checked out. 4 copies available.\n",
      "Book 'The Great Gatsby' returned. 5 copies available.\n",
      "Title: The Great Gatsby\n",
      "Author: F. Scott Fitzgerald\n",
      "ISBN: 978-3-16-148410-0\n",
      "Publication Year: 1925\n",
      "Available Copies: 5\n"
     ]
    }
   ],
   "source": [
    "class Book:\n",
    "    def __init__(self, title, author, isbn, publication_year, available_copies):\n",
    "        self.title = title\n",
    "        self.author = author\n",
    "        self.isbn = isbn\n",
    "        self.publication_year = publication_year\n",
    "        self.available_copies = available_copies\n",
    "\n",
    "    def check_out(self):\n",
    "        if self.available_copies > 0:\n",
    "            self.available_copies -= 1\n",
    "            print(f\"Book '{self.title}' checked out. {self.available_copies} copies available.\")\n",
    "        else:\n",
    "            print(f\"No available copies of '{self.title}' for checkout.\")\n",
    "\n",
    "    def return_book(self):\n",
    "        self.available_copies += 1\n",
    "        print(f\"Book '{self.title}' returned. {self.available_copies} copies available.\")\n",
    "\n",
    "    def display_book_info(self):\n",
    "        print(f\"Title: {self.title}\")\n",
    "        print(f\"Author: {self.author}\")\n",
    "        print(f\"ISBN: {self.isbn}\")\n",
    "        print(f\"Publication Year: {self.publication_year}\")\n",
    "        print(f\"Available Copies: {self.available_copies}\")\n",
    "\n",
    "# Creating an instance of the Book class\n",
    "book1 = Book(\"The Great Gatsby\", \"F. Scott Fitzgerald\", \"978-3-16-148410-0\", 1925, 5)\n",
    "\n",
    "# Example usage\n",
    "book1.check_out()\n",
    "book1.return_book()\n",
    "book1.display_book_info()\n"
   ]
  },
  {
   "cell_type": "raw",
   "id": "35c9cf78",
   "metadata": {},
   "source": [
    "8. For a ticket booking system, you have to design the \"Ticket\" class with OOP\n",
    "principles in mind. The “Ticket” class should have the following attributes:\n",
    "a. ticket_id: Represents the unique identifier for the ticket.\n",
    "b. event_name: Represents the name of the event.\n",
    "c. event_date: Represents the date of the event.\n",
    "d. venue: Represents the venue of the event.\n",
    "e. seat_number: Represents the seat number associated with the ticket.\n",
    "f. price: Represents the price of the ticket.\n",
    "g. is_reserved: Represents the reservation status of the ticket.\n",
    "The class also includes the following methods:\n",
    "a. reserve_ticket(self): Marks the ticket as reserved if it is not already reserved.\n",
    "b. cancel_reservation(self): Cancels the reservation of the ticket if it is already\n",
    "reserved.\n",
    "c. display_ticket_info(self): Displays the information about the ticket, including its\n",
    "attributes and reservation status."
   ]
  },
  {
   "cell_type": "code",
   "execution_count": 3,
   "id": "001923dc",
   "metadata": {},
   "outputs": [
    {
     "name": "stdout",
     "output_type": "stream",
     "text": [
      "Ticket T12345 for 'Concert Night' is now reserved.\n",
      "Reservation for ticket T12345 has been canceled.\n",
      "Ticket ID: T12345\n",
      "Event Name: Concert Night\n",
      "Event Date: 2023-09-15\n",
      "Venue: Grand Hall\n",
      "Seat Number: A15\n",
      "Price: $50\n",
      "Reservation Status: Not Reserved\n"
     ]
    }
   ],
   "source": [
    "class Ticket:\n",
    "    def __init__(self, ticket_id, event_name, event_date, venue, seat_number, price):\n",
    "        self.ticket_id = ticket_id\n",
    "        self.event_name = event_name\n",
    "        self.event_date = event_date\n",
    "        self.venue = venue\n",
    "        self.seat_number = seat_number\n",
    "        self.price = price\n",
    "        self.is_reserved = False\n",
    "\n",
    "    def reserve_ticket(self):\n",
    "        if not self.is_reserved:\n",
    "            self.is_reserved = True\n",
    "            print(f\"Ticket {self.ticket_id} for '{self.event_name}' is now reserved.\")\n",
    "        else:\n",
    "            print(f\"Ticket {self.ticket_id} is already reserved.\")\n",
    "\n",
    "    def cancel_reservation(self):\n",
    "        if self.is_reserved:\n",
    "            self.is_reserved = False\n",
    "            print(f\"Reservation for ticket {self.ticket_id} has been canceled.\")\n",
    "        else:\n",
    "            print(f\"Ticket {self.ticket_id} is not reserved.\")\n",
    "\n",
    "    def display_ticket_info(self):\n",
    "        print(f\"Ticket ID: {self.ticket_id}\")\n",
    "        print(f\"Event Name: {self.event_name}\")\n",
    "        print(f\"Event Date: {self.event_date}\")\n",
    "        print(f\"Venue: {self.venue}\")\n",
    "        print(f\"Seat Number: {self.seat_number}\")\n",
    "        print(f\"Price: ${self.price}\")\n",
    "        print(f\"Reservation Status: {'Reserved' if self.is_reserved else 'Not Reserved'}\")\n",
    "\n",
    "# Creating an instance of the Ticket class\n",
    "ticket1 = Ticket(\"T12345\", \"Concert Night\", \"2023-09-15\", \"Grand Hall\", \"A15\", 50)\n",
    "\n",
    "# Example usage\n",
    "ticket1.reserve_ticket()\n",
    "ticket1.cancel_reservation()\n",
    "ticket1.display_ticket_info()\n"
   ]
  },
  {
   "cell_type": "raw",
   "id": "9349bdaf",
   "metadata": {},
   "source": [
    "9. You are creating a shopping cart for an e-commerce website. Using OOP to model\n",
    "the \"ShoppingCart\" functionality the class should contain following attributes and\n",
    "methods:\n",
    "a. items: Represents the list of items in the shopping cart.\n",
    "The class also includes the following methods:\n",
    "a. add_item(self, item): Adds an item to the shopping cart by appending it to the\n",
    "list of items.\n",
    "b. remove_item(self, item): Removes an item from the shopping cart if it exists in\n",
    "the list.\n",
    "c. view_cart(self): Displays the items currently present in the shopping cart.\n",
    "d. clear_cart(self): Clears all items from the shopping cart by reassigning an\n",
    "empty list to the items attribute."
   ]
  },
  {
   "cell_type": "code",
   "execution_count": 4,
   "id": "5e5dbeed",
   "metadata": {},
   "outputs": [
    {
     "name": "stdout",
     "output_type": "stream",
     "text": [
      "Shirt added to the shopping cart.\n",
      "Shoes added to the shopping cart.\n",
      "Hat added to the shopping cart.\n",
      "Items in the shopping cart:\n",
      "Shirt\n",
      "Shoes\n",
      "Hat\n",
      "Shoes removed from the shopping cart.\n",
      "Items in the shopping cart:\n",
      "Shirt\n",
      "Hat\n",
      "Shopping cart has been cleared.\n",
      "The shopping cart is empty.\n"
     ]
    }
   ],
   "source": [
    "class ShoppingCart:\n",
    "    def __init__(self):\n",
    "        self.items = []\n",
    "\n",
    "    def add_item(self, item):\n",
    "        self.items.append(item)\n",
    "        print(f\"{item} added to the shopping cart.\")\n",
    "\n",
    "    def remove_item(self, item):\n",
    "        if item in self.items:\n",
    "            self.items.remove(item)\n",
    "            print(f\"{item} removed from the shopping cart.\")\n",
    "        else:\n",
    "            print(f\"{item} is not in the shopping cart.\")\n",
    "\n",
    "    def view_cart(self):\n",
    "        if self.items:\n",
    "            print(\"Items in the shopping cart:\")\n",
    "            for item in self.items:\n",
    "                print(item)\n",
    "        else:\n",
    "            print(\"The shopping cart is empty.\")\n",
    "\n",
    "    def clear_cart(self):\n",
    "        self.items = []\n",
    "        print(\"Shopping cart has been cleared.\")\n",
    "\n",
    "# Creating an instance of the ShoppingCart class\n",
    "cart = ShoppingCart()\n",
    "\n",
    "# Example usage\n",
    "cart.add_item(\"Shirt\")\n",
    "cart.add_item(\"Shoes\")\n",
    "cart.add_item(\"Hat\")\n",
    "cart.view_cart()\n",
    "cart.remove_item(\"Shoes\")\n",
    "cart.view_cart()\n",
    "cart.clear_cart()\n",
    "cart.view_cart()\n"
   ]
  },
  {
   "cell_type": "raw",
   "id": "e89b1f6f",
   "metadata": {},
   "source": [
    "10. Imagine a school management system. You have to design the \"Student\" class using\n",
    "OOP concepts.The “Student” class has the following attributes:\n",
    "a. name: Represents the name of the student.\n",
    "b. age: Represents the age of the student.\n",
    "c. grade: Represents the grade or class of the student.\n",
    "d. student_id: Represents the unique identifier for the student.\n",
    "e. attendance: Represents the attendance record of the student.\n",
    "The class should also include the following methods:\n",
    "a. update_attendance(self, date, status): Updates the attendance record of the\n",
    "student for a given date with the provided status (e.g., present or absent).\n",
    "b. get_attendance(self): Returns the attendance record of the student.\n",
    "c. get_average_attendance(self): Calculates and returns the average\n",
    "attendance percentage of the student based on their attendance record."
   ]
  },
  {
   "cell_type": "code",
   "execution_count": 5,
   "id": "98911efd",
   "metadata": {},
   "outputs": [
    {
     "name": "stdout",
     "output_type": "stream",
     "text": [
      "Attendance updated for Alice on 2023-08-20. Status: present\n",
      "Attendance updated for Alice on 2023-08-21. Status: absent\n",
      "Attendance updated for Alice on 2023-08-22. Status: present\n",
      "Attendance: {'2023-08-20': 'present', '2023-08-21': 'absent', '2023-08-22': 'present'}\n",
      "Average Attendance: 66.67%\n"
     ]
    }
   ],
   "source": [
    "class Student:\n",
    "    def __init__(self, name, age, grade, student_id):\n",
    "        self.name = name\n",
    "        self.age = age\n",
    "        self.grade = grade\n",
    "        self.student_id = student_id\n",
    "        self.attendance = {}  # Dictionary to store attendance records\n",
    "\n",
    "    def update_attendance(self, date, status):\n",
    "        self.attendance[date] = status\n",
    "        print(f\"Attendance updated for {self.name} on {date}. Status: {status}\")\n",
    "\n",
    "    def get_attendance(self):\n",
    "        return self.attendance\n",
    "\n",
    "    def get_average_attendance(self):\n",
    "        total_days = len(self.attendance)\n",
    "        if total_days == 0:\n",
    "            return 0.0\n",
    "        present_days = sum(1 for status in self.attendance.values() if status == \"present\")\n",
    "        attendance_percentage = (present_days / total_days) * 100\n",
    "        return attendance_percentage\n",
    "\n",
    "# Creating an instance of the Student class\n",
    "student1 = Student(\"Alice\", 16, \"10th Grade\", \"S12345\")\n",
    "\n",
    "# Example usage\n",
    "student1.update_attendance(\"2023-08-20\", \"present\")\n",
    "student1.update_attendance(\"2023-08-21\", \"absent\")\n",
    "student1.update_attendance(\"2023-08-22\", \"present\")\n",
    "print(\"Attendance:\", student1.get_attendance())\n",
    "average_attendance = student1.get_average_attendance()\n",
    "print(f\"Average Attendance: {average_attendance:.2f}%\")\n"
   ]
  }
 ],
 "metadata": {
  "kernelspec": {
   "display_name": "Python 3 (ipykernel)",
   "language": "python",
   "name": "python3"
  },
  "language_info": {
   "codemirror_mode": {
    "name": "ipython",
    "version": 3
   },
   "file_extension": ".py",
   "mimetype": "text/x-python",
   "name": "python",
   "nbconvert_exporter": "python",
   "pygments_lexer": "ipython3",
   "version": "3.10.9"
  }
 },
 "nbformat": 4,
 "nbformat_minor": 5
}
