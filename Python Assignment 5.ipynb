{
 "cells": [
  {
   "cell_type": "markdown",
   "id": "929f1a1b",
   "metadata": {},
   "source": [
    "1. What does an empty dictionary's code look like?"
   ]
  },
  {
   "cell_type": "markdown",
   "id": "fb415e10",
   "metadata": {},
   "source": [
    "Ans - {} - empty dictionary "
   ]
  },
  {
   "cell_type": "markdown",
   "id": "a7cd695c",
   "metadata": {},
   "source": [
    "2. What is the value of a dictionary value with the key 'foo' and the value 42?"
   ]
  },
  {
   "cell_type": "code",
   "execution_count": 2,
   "id": "5e31dd15",
   "metadata": {},
   "outputs": [],
   "source": [
    "a = {'foo' : 42}"
   ]
  },
  {
   "cell_type": "code",
   "execution_count": 3,
   "id": "14cd5723",
   "metadata": {},
   "outputs": [
    {
     "data": {
      "text/plain": [
       "42"
      ]
     },
     "execution_count": 3,
     "metadata": {},
     "output_type": "execute_result"
    }
   ],
   "source": [
    "a['foo']"
   ]
  },
  {
   "cell_type": "markdown",
   "id": "2031429d",
   "metadata": {},
   "source": [
    "3. What is the most significant distinction between a dictionary and a list?"
   ]
  },
  {
   "cell_type": "markdown",
   "id": "8a6ef286",
   "metadata": {},
   "source": [
    "Ans - Dictionary stores the data in curly brackets {} and List stores data in square bracket []."
   ]
  },
  {
   "cell_type": "markdown",
   "id": "d2ec098b",
   "metadata": {},
   "source": [
    "Dictionary elements can be accessed using keys & values. While List elements can be accessed using index. "
   ]
  },
  {
   "cell_type": "markdown",
   "id": "44f4739d",
   "metadata": {},
   "source": [
    "Dictionary's keys should not be duplicate while list elements can be dublicate. "
   ]
  },
  {
   "cell_type": "markdown",
   "id": "adb8b747",
   "metadata": {},
   "source": [
    "4. What happens if you try to access spam['foo'] if spam is {'bar': 100}?"
   ]
  },
  {
   "cell_type": "code",
   "execution_count": 5,
   "id": "a557f5c6",
   "metadata": {},
   "outputs": [],
   "source": [
    "spam = {'bar':100}"
   ]
  },
  {
   "cell_type": "code",
   "execution_count": 6,
   "id": "636794be",
   "metadata": {},
   "outputs": [
    {
     "ename": "KeyError",
     "evalue": "'foo'",
     "output_type": "error",
     "traceback": [
      "\u001b[1;31m---------------------------------------------------------------------------\u001b[0m",
      "\u001b[1;31mKeyError\u001b[0m                                  Traceback (most recent call last)",
      "Cell \u001b[1;32mIn[6], line 1\u001b[0m\n\u001b[1;32m----> 1\u001b[0m \u001b[43mspam\u001b[49m\u001b[43m[\u001b[49m\u001b[38;5;124;43m'\u001b[39;49m\u001b[38;5;124;43mfoo\u001b[39;49m\u001b[38;5;124;43m'\u001b[39;49m\u001b[43m]\u001b[49m\n",
      "\u001b[1;31mKeyError\u001b[0m: 'foo'"
     ]
    }
   ],
   "source": [
    "spam['foo']"
   ]
  },
  {
   "cell_type": "markdown",
   "id": "bf417b11",
   "metadata": {},
   "source": [
    "Ans - It will show keyerror as 'foo' is not present in spam."
   ]
  },
  {
   "cell_type": "markdown",
   "id": "e53acc27",
   "metadata": {},
   "source": [
    "5. If a dictionary is stored in spam, what is the difference between the expressions 'cat' in spam and\n",
    "'cat' in spam.keys()?"
   ]
  },
  {
   "cell_type": "markdown",
   "id": "29c1f98f",
   "metadata": {},
   "source": [
    "Ans - 'cat' in spam means it is asking by default whether the key 'cat' is present in spam or not, so it will return the boolean values(True or False). And 'cat' in spam.keys() means it is asking whether the 'cat' is present in the keys of spam or not, it will return the result in the form of boolean values (True or False). So both are asking the equal questions. "
   ]
  },
  {
   "cell_type": "markdown",
   "id": "5a97d8bd",
   "metadata": {},
   "source": [
    "6. If a dictionary is stored in spam, what is the difference between the expressions 'cat' in spam and\n",
    "'cat' in spam.values()?"
   ]
  },
  {
   "cell_type": "markdown",
   "id": "3417793f",
   "metadata": {},
   "source": [
    "Ans - 'cat' in spam means it is asking by default whether the key 'cat' is present in spam or not, so it will return the boolean values(True or False). And 'cat' in spam.values() means it is asking whether the 'cat' is present in the values of spam or not, it will return the result in the form of boolean values (True or False). "
   ]
  },
  {
   "cell_type": "markdown",
   "id": "11f0c815",
   "metadata": {},
   "source": [
    "7. What is a shortcut for the following code?\n",
    "if 'color' not in spam:\n",
    "spam['color'] = 'black'"
   ]
  },
  {
   "cell_type": "markdown",
   "id": "4be43f4d",
   "metadata": {},
   "source": [
    "Ans - spam.get('color', 'black') - if the key 'color' is present in the dictionary, it will return the corresponding value. And if the key is not present in the dictionary then by default it will return the value 'black'."
   ]
  },
  {
   "cell_type": "markdown",
   "id": "3a145d17",
   "metadata": {},
   "source": [
    "8. How do you \"pretty print\" dictionary values using which module and function?"
   ]
  },
  {
   "cell_type": "markdown",
   "id": "d92277c1",
   "metadata": {},
   "source": [
    "Ans - We can use pprint module with pprint() function."
   ]
  }
 ],
 "metadata": {
  "kernelspec": {
   "display_name": "Python 3 (ipykernel)",
   "language": "python",
   "name": "python3"
  },
  "language_info": {
   "codemirror_mode": {
    "name": "ipython",
    "version": 3
   },
   "file_extension": ".py",
   "mimetype": "text/x-python",
   "name": "python",
   "nbconvert_exporter": "python",
   "pygments_lexer": "ipython3",
   "version": "3.10.9"
  }
 },
 "nbformat": 4,
 "nbformat_minor": 5
}
