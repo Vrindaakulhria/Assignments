{
 "cells": [
  {
   "cell_type": "raw",
   "id": "514566ca",
   "metadata": {},
   "source": [
    "Q.1. Create two int type variables, apply addition, subtraction, division and multiplications\n",
    "and store the results in variables. Then print the data in the following format by calling the\n",
    "variables:\n",
    "First variable is __ & second variable is __.\n",
    "Addition: __ + __ = __\n",
    "Subtraction: __ - __ = __\n",
    "Multiplication: __ * __ = __\n",
    "Division: __ / __ = __"
   ]
  },
  {
   "cell_type": "code",
   "execution_count": 3,
   "id": "e4afd8ca",
   "metadata": {},
   "outputs": [
    {
     "name": "stdout",
     "output_type": "stream",
     "text": [
      "First variable is 50 & second variable is 25\n",
      "Addition : 50 + 25 = 75\n",
      "Subtraction : 50 - 25 = 25\n",
      "Multiplication : 50 * 25 = 1250\n",
      "Division : 50 / 25 = 2.0\n"
     ]
    }
   ],
   "source": [
    "first_variable = 50\n",
    "second_variable = 25\n",
    "\n",
    "addition_result = first_variable + second_variable\n",
    "subtraction_result = first_variable - second_variable \n",
    "multiplication_result = first_variable*second_variable\n",
    "division_result = first_variable/second_variable\n",
    "\n",
    "print(\"First variable is\",first_variable,\"&\",\"second variable is\",second_variable)\n",
    "print(\"Addition :\",first_variable,\"+\",second_variable,\"=\", addition_result)\n",
    "print(\"Subtraction :\", first_variable,\"-\",second_variable,\"=\", subtraction_result)\n",
    "print( \"Multiplication :\",first_variable,\"*\",second_variable,\"=\", multiplication_result )\n",
    "print (\"Division :\",first_variable,\"/\",second_variable,\"=\", division_result)\n"
   ]
  },
  {
   "cell_type": "raw",
   "id": "a6838753",
   "metadata": {},
   "source": [
    "Q.2. What is the difference between the following operators:\n",
    "(i) ‘/’ & ‘//’\n",
    "(ii) ‘**’ & ‘^’"
   ]
  },
  {
   "cell_type": "raw",
   "id": "1122c25e",
   "metadata": {},
   "source": [
    "Ans - (i) '/' : It is used for division as we normally does like 5/2 gives result - 2.5, it gives the exact result "
   ]
  },
  {
   "cell_type": "raw",
   "id": "d8a4f848",
   "metadata": {},
   "source": [
    " '//' : It is used for division but returns the largest integer that is less or equal to the division result. e.g 5//2 will return 2(less than 2.5)"
   ]
  },
  {
   "cell_type": "raw",
   "id": "625139dd",
   "metadata": {},
   "source": [
    "(ii) '**' : It raises the number as a power to another number. e.g - 2**3 means raising 3 as a power to 2, gives the result 8"
   ]
  },
  {
   "cell_type": "raw",
   "id": "e4b15cff",
   "metadata": {},
   "source": [
    "'^' : It is used as OR operator for boolean values. It returns True if atleast one of them is True otherwise False."
   ]
  },
  {
   "cell_type": "markdown",
   "id": "d8e8d8ce",
   "metadata": {},
   "source": [
    "Q.3. List the logical operators."
   ]
  },
  {
   "cell_type": "markdown",
   "id": "c50a7362",
   "metadata": {},
   "source": [
    "Ans - logical operators are used to perform logical operations on boolean values: "
   ]
  },
  {
   "cell_type": "markdown",
   "id": "df5ad4f8",
   "metadata": {},
   "source": [
    "OR - This operator gives True if atleast one of the boolean values is True, otherwise False."
   ]
  },
  {
   "cell_type": "markdown",
   "id": "0ec88624",
   "metadata": {},
   "source": [
    "And - This operator gives True if both of them are True, otherwise False in rest of the case."
   ]
  },
  {
   "cell_type": "markdown",
   "id": "359c802d",
   "metadata": {},
   "source": [
    "Not - This operator gives the result opposite to the boolean value. It gives False if the boolean value is True and gives True is the boolean value is False."
   ]
  },
  {
   "cell_type": "markdown",
   "id": "4a898c74",
   "metadata": {},
   "source": [
    "Q.4. Explain right shift operator and left shift operator with examples."
   ]
  },
  {
   "cell_type": "markdown",
   "id": "dcc951f9",
   "metadata": {},
   "source": [
    "Ans - Right shift operator shifts the bits of a number to the right by a specified number of position. It divideds the number by 2 raised to the power of shift amount."
   ]
  },
  {
   "cell_type": "code",
   "execution_count": 7,
   "id": "8605bf70",
   "metadata": {},
   "outputs": [
    {
     "name": "stdout",
     "output_type": "stream",
     "text": [
      "0b100000\n",
      "2\n",
      "0b10\n"
     ]
    }
   ],
   "source": [
    "num = 32  \n",
    "\n",
    "binary1 = bin(32)  # We can use the built-in function bin() to find the binary representation of a number\n",
    "print(binary1)\n",
    "\n",
    "print(num>>4)  \n",
    "\n",
    "binary2 = bin(2)  # bcz result is 2 of num >> 4\n",
    "print(binary2)"
   ]
  },
  {
   "cell_type": "markdown",
   "id": "1f70410b",
   "metadata": {},
   "source": [
    "Left shift operator shifts the the bits of a number to the left by a specified number of position. It multiplies the number by 2 raised to the power of shift amount."
   ]
  },
  {
   "cell_type": "code",
   "execution_count": 10,
   "id": "d7309097",
   "metadata": {},
   "outputs": [
    {
     "name": "stdout",
     "output_type": "stream",
     "text": [
      "0b111\n",
      "56\n",
      "0b111000\n"
     ]
    }
   ],
   "source": [
    "num = 7 \n",
    "print(bin(7))\n",
    "\n",
    "print(num << 3)\n",
    "print (bin(num<<3))"
   ]
  },
  {
   "cell_type": "markdown",
   "id": "66d7dcf5",
   "metadata": {},
   "source": [
    "Q.5. Create a list containing int type data of length 15. Then write a code to check if 10 is\n",
    "present in the list or not."
   ]
  },
  {
   "cell_type": "code",
   "execution_count": 12,
   "id": "c6b1f43c",
   "metadata": {},
   "outputs": [
    {
     "name": "stdout",
     "output_type": "stream",
     "text": [
      "10 is present in the list\n"
     ]
    }
   ],
   "source": [
    "l = [1,2,3,4,5,6,7,8,9,10,11,12,13,14,15]\n",
    "if 10 in l:\n",
    "    print (\"10 is present in the list\")\n",
    "else:\n",
    "    print(\"10 is not present in the list\")"
   ]
  }
 ],
 "metadata": {
  "kernelspec": {
   "display_name": "Python 3 (ipykernel)",
   "language": "python",
   "name": "python3"
  },
  "language_info": {
   "codemirror_mode": {
    "name": "ipython",
    "version": 3
   },
   "file_extension": ".py",
   "mimetype": "text/x-python",
   "name": "python",
   "nbconvert_exporter": "python",
   "pygments_lexer": "ipython3",
   "version": "3.10.9"
  }
 },
 "nbformat": 4,
 "nbformat_minor": 5
}
