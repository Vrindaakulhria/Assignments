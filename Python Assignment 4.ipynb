{
 "cells": [
  {
   "cell_type": "markdown",
   "id": "c6da68d2",
   "metadata": {},
   "source": [
    "1 - What exactly is []?"
   ]
  },
  {
   "cell_type": "markdown",
   "id": "64f5780c",
   "metadata": {},
   "source": [
    "Ans - [] denotes an empty list."
   ]
  },
  {
   "cell_type": "markdown",
   "id": "a125f1ff",
   "metadata": {},
   "source": [
    "2. In a list of values stored in a variable called spam, how would you assign the value &#39;hello&#39; as the\n",
    "third value? (Assume [2, 4, 6, 8, 10] are in spam.)"
   ]
  },
  {
   "cell_type": "code",
   "execution_count": 4,
   "id": "47280109",
   "metadata": {},
   "outputs": [],
   "source": [
    "spam = [2,4,6,8,10] \n",
    "spam [2] = 'hello' "
   ]
  },
  {
   "cell_type": "code",
   "execution_count": 5,
   "id": "cd057cb4",
   "metadata": {},
   "outputs": [
    {
     "data": {
      "text/plain": [
       "[2, 4, 'hello', 8, 10]"
      ]
     },
     "execution_count": 5,
     "metadata": {},
     "output_type": "execute_result"
    }
   ],
   "source": [
    "spam"
   ]
  },
  {
   "cell_type": "markdown",
   "id": "f9b3aeeb",
   "metadata": {},
   "source": [
    "Let's pretend the spam includes the list ['a','b','c','d'] for the next three queries."
   ]
  },
  {
   "cell_type": "markdown",
   "id": "fe57b563",
   "metadata": {},
   "source": [
    "3. What is the value of spam[int(int('3'* 2) / 11)]?"
   ]
  },
  {
   "cell_type": "code",
   "execution_count": 10,
   "id": "66db1df0",
   "metadata": {},
   "outputs": [],
   "source": [
    "spam = ['a','b','c','d']"
   ]
  },
  {
   "cell_type": "code",
   "execution_count": 8,
   "id": "13948bc6",
   "metadata": {},
   "outputs": [
    {
     "data": {
      "text/plain": [
       "'d'"
      ]
     },
     "execution_count": 8,
     "metadata": {},
     "output_type": "execute_result"
    }
   ],
   "source": [
    "spam[int(int('3'*2)/11)]"
   ]
  },
  {
   "cell_type": "markdown",
   "id": "370df928",
   "metadata": {},
   "source": [
    "4. What is the value of spam[-1]?"
   ]
  },
  {
   "cell_type": "code",
   "execution_count": 9,
   "id": "4e408d38",
   "metadata": {},
   "outputs": [
    {
     "data": {
      "text/plain": [
       "'d'"
      ]
     },
     "execution_count": 9,
     "metadata": {},
     "output_type": "execute_result"
    }
   ],
   "source": [
    "spam[-1]"
   ]
  },
  {
   "cell_type": "markdown",
   "id": "a4fdc354",
   "metadata": {},
   "source": [
    "5. What is the value of spam[:2]?"
   ]
  },
  {
   "cell_type": "code",
   "execution_count": 11,
   "id": "34fa4d59",
   "metadata": {},
   "outputs": [
    {
     "data": {
      "text/plain": [
       "['a', 'b']"
      ]
     },
     "execution_count": 11,
     "metadata": {},
     "output_type": "execute_result"
    }
   ],
   "source": [
    "spam[:2]"
   ]
  },
  {
   "cell_type": "markdown",
   "id": "309f48c5",
   "metadata": {},
   "source": [
    "Let's pretend bacon has the list [3.14, 'cat' , 11, 'cat',True] for the next three questions."
   ]
  },
  {
   "cell_type": "markdown",
   "id": "c5841fc7",
   "metadata": {},
   "source": [
    "6. What is the value of bacon.index('cat')?"
   ]
  },
  {
   "cell_type": "code",
   "execution_count": 12,
   "id": "33262a9f",
   "metadata": {},
   "outputs": [],
   "source": [
    "bacon = [3.14, 'cat' , 11, 'cat',True]"
   ]
  },
  {
   "cell_type": "code",
   "execution_count": 13,
   "id": "625858e2",
   "metadata": {},
   "outputs": [
    {
     "data": {
      "text/plain": [
       "1"
      ]
     },
     "execution_count": 13,
     "metadata": {},
     "output_type": "execute_result"
    }
   ],
   "source": [
    "bacon.index('cat')"
   ]
  },
  {
   "cell_type": "markdown",
   "id": "9dd4b97f",
   "metadata": {},
   "source": [
    "7. How does bacon.append(99) change the look of the list value in bacon?"
   ]
  },
  {
   "cell_type": "code",
   "execution_count": 14,
   "id": "aa62a19a",
   "metadata": {},
   "outputs": [],
   "source": [
    "bacon.append(99) "
   ]
  },
  {
   "cell_type": "code",
   "execution_count": 15,
   "id": "28cee3b7",
   "metadata": {},
   "outputs": [
    {
     "data": {
      "text/plain": [
       "[3.14, 'cat', 11, 'cat', True, 99]"
      ]
     },
     "execution_count": 15,
     "metadata": {},
     "output_type": "execute_result"
    }
   ],
   "source": [
    "bacon"
   ]
  },
  {
   "cell_type": "markdown",
   "id": "0f5a093a",
   "metadata": {},
   "source": [
    "8. How does bacon.remove('cat') change the look of the list in bacon?"
   ]
  },
  {
   "cell_type": "code",
   "execution_count": 16,
   "id": "555b729f",
   "metadata": {},
   "outputs": [],
   "source": [
    "bacon.remove('cat') "
   ]
  },
  {
   "cell_type": "code",
   "execution_count": 17,
   "id": "4cdfa136",
   "metadata": {},
   "outputs": [
    {
     "data": {
      "text/plain": [
       "[3.14, 11, 'cat', True, 99]"
      ]
     },
     "execution_count": 17,
     "metadata": {},
     "output_type": "execute_result"
    }
   ],
   "source": [
    "bacon"
   ]
  },
  {
   "cell_type": "markdown",
   "id": "15f904b6",
   "metadata": {},
   "source": [
    "9. What are the list concatenation and list replication operators?"
   ]
  },
  {
   "cell_type": "markdown",
   "id": "dc93fd67",
   "metadata": {},
   "source": [
    "list concatenation(+) - it is used to add two list and the resultant list contains all the elements from both the list. "
   ]
  },
  {
   "cell_type": "markdown",
   "id": "5f6aab8e",
   "metadata": {},
   "source": [
    "list replication(*) - it is used to replicate or multiply the list specified no. of times. Resultant list is the orginal list only containing the same no. of elements but the list is replicated specified no. of times."
   ]
  },
  {
   "cell_type": "markdown",
   "id": "e73b2743",
   "metadata": {},
   "source": [
    "10. What is difference between the list methods append() and insert()?"
   ]
  },
  {
   "cell_type": "markdown",
   "id": "e6ef2bc2",
   "metadata": {},
   "source": [
    "Ans - append() - it is used to add the element at the end of the list."
   ]
  },
  {
   "cell_type": "markdown",
   "id": "e108e41b",
   "metadata": {},
   "source": [
    "insert() - It is used to to add the element at the mentioned index inside the list by shifting and adjusting the existing elements. e.g list.insert(index,element)"
   ]
  },
  {
   "cell_type": "markdown",
   "id": "987abdc1",
   "metadata": {},
   "source": [
    "11. What are the two methods for removing items from a list?"
   ]
  },
  {
   "cell_type": "markdown",
   "id": "884f7234",
   "metadata": {},
   "source": [
    "Ans - remove() - it is used to remove the first occurance of specified element from the list. i.e list.remove(element)"
   ]
  },
  {
   "cell_type": "markdown",
   "id": "e6649c30",
   "metadata": {},
   "source": [
    "pop() - it is used to remove and return the element at the specified index. i.e list.pop(index)"
   ]
  },
  {
   "cell_type": "markdown",
   "id": "ce4383ed",
   "metadata": {},
   "source": [
    "12. Describe how list values and string values are identical."
   ]
  },
  {
   "cell_type": "markdown",
   "id": "670a1fba",
   "metadata": {},
   "source": [
    "Ans - Both string and list values are in a sequence, they have index of the values, they follow indexing & slicing operations and we can iterate their elements using loop."
   ]
  },
  {
   "cell_type": "markdown",
   "id": "3b046647",
   "metadata": {},
   "source": [
    "13. What's the difference between tuples and lists?"
   ]
  },
  {
   "cell_type": "markdown",
   "id": "48d114db",
   "metadata": {},
   "source": [
    "Ans - Lists are defined using square brackets[] and tuples using parentheses() "
   ]
  },
  {
   "cell_type": "markdown",
   "id": "d76aa8b3",
   "metadata": {},
   "source": [
    "Lists are mutable while tuples are immutable. "
   ]
  },
  {
   "cell_type": "markdown",
   "id": "bc50a401",
   "metadata": {},
   "source": [
    "List uses some inbuilt function like append(), remove(), sort() etc. for adding, removing, sorting or for manipulating the elements while tuples use only basic bulit in function like count(), index() for counting and finding index of the tuples elements."
   ]
  },
  {
   "cell_type": "markdown",
   "id": "f9eb312a",
   "metadata": {},
   "source": [
    "14. How do you type a tuple value that only contains the integer 42?"
   ]
  },
  {
   "cell_type": "code",
   "execution_count": 22,
   "id": "aeba2367",
   "metadata": {},
   "outputs": [],
   "source": [
    "t = (42,) # comma signifies that it is tuple with single element. Otherwise it will look like an integer in a parentheses."
   ]
  },
  {
   "cell_type": "code",
   "execution_count": 23,
   "id": "3a486e2d",
   "metadata": {},
   "outputs": [
    {
     "name": "stdout",
     "output_type": "stream",
     "text": [
      "(42,)\n"
     ]
    }
   ],
   "source": [
    "print(t)"
   ]
  },
  {
   "cell_type": "markdown",
   "id": "5887d262",
   "metadata": {},
   "source": [
    "15. How do you get a list value's tuple form? How do you get a tuple value's list form?"
   ]
  },
  {
   "cell_type": "markdown",
   "id": "a819b62e",
   "metadata": {},
   "source": [
    "Ans - A list can be converted to tuple using tuple() function and a tuple can be converted to list using list() function. "
   ]
  },
  {
   "cell_type": "code",
   "execution_count": 4,
   "id": "63c34e05",
   "metadata": {},
   "outputs": [
    {
     "name": "stdout",
     "output_type": "stream",
     "text": [
      "(1, 2, 3, 4)\n"
     ]
    }
   ],
   "source": [
    "list = [1, 2, 3, 4]\n",
    "tuple1 = tuple(list)\n",
    "\n",
    "print(tuple1)\n"
   ]
  },
  {
   "cell_type": "code",
   "execution_count": 1,
   "id": "8b91ccc5",
   "metadata": {},
   "outputs": [
    {
     "name": "stdout",
     "output_type": "stream",
     "text": [
      "[1, 2, 3]\n"
     ]
    }
   ],
   "source": [
    "tuple = (1,2,3)\n",
    "list1 = list(tuple)\n",
    "print(list1)"
   ]
  },
  {
   "cell_type": "markdown",
   "id": "e22a2bd8",
   "metadata": {},
   "source": [
    "16. Variables that \"contain\" list values are not necessarily lists themselves. Instead, what do they\n",
    "contain?"
   ]
  },
  {
   "cell_type": "markdown",
   "id": "386cf072",
   "metadata": {},
   "source": [
    "Ans 16 - Variables that \"contain\" list values are not necessarily lists themselves.Instead they contain a reference to the list."
   ]
  },
  {
   "cell_type": "markdown",
   "id": "aa85aabb",
   "metadata": {},
   "source": [
    "17. How do you distinguish between copy.copy() and copy.deepcopy()?"
   ]
  },
  {
   "cell_type": "code",
   "execution_count": 5,
   "id": "96c2e24b",
   "metadata": {},
   "outputs": [
    {
     "name": "stdout",
     "output_type": "stream",
     "text": [
      "[1, 2, 3, [4, 5]]\n",
      "[1, 2, 3, [4, 5]]\n"
     ]
    }
   ],
   "source": [
    "import copy \n",
    "l = [1,2,3,[4,5]]\n",
    "a = copy.copy(l)\n",
    "print(a)\n",
    "b = copy.deepcopy(l)\n",
    "print(b)"
   ]
  },
  {
   "cell_type": "markdown",
   "id": "de92a5b7",
   "metadata": {},
   "source": [
    "Ans 17 - copy.copy() creates a shallow copy & any change in the data shared is seen in both original & shallow copy. But deepcopy() creates a deepcopy of the data provided & it remains unaffected if the data provided is changed anyway."
   ]
  }
 ],
 "metadata": {
  "kernelspec": {
   "display_name": "Python 3 (ipykernel)",
   "language": "python",
   "name": "python3"
  },
  "language_info": {
   "codemirror_mode": {
    "name": "ipython",
    "version": 3
   },
   "file_extension": ".py",
   "mimetype": "text/x-python",
   "name": "python",
   "nbconvert_exporter": "python",
   "pygments_lexer": "ipython3",
   "version": "3.10.9"
  }
 },
 "nbformat": 4,
 "nbformat_minor": 5
}
