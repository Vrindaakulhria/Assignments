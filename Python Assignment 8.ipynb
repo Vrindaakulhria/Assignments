{
 "cells": [
  {
   "cell_type": "code",
   "execution_count": null,
   "id": "99c87cfa",
   "metadata": {},
   "outputs": [],
   "source": [
    "\n",
    "8. Create a function that can intake integer or decimal value and do following operations:\n",
    "a. Logarithmic function (log x)\n",
    "b. Exponential function (exp(x))\n",
    "c. Power function with base 2 (2 to the power x)\n",
    "d. Square root\n",
    "9. Create a function that takes a full name as an argument and returns first name and last name."
   ]
  },
  {
   "cell_type": "markdown",
   "id": "83e96f12",
   "metadata": {},
   "source": [
    "1. In Python, what is the difference between a built-in function and a user-defined function? Provide an\n",
    "example of each."
   ]
  },
  {
   "cell_type": "markdown",
   "id": "5ae2f9b9",
   "metadata": {},
   "source": [
    "Ans - Built-in function : These functions already exists and are the part of python programming language. e.g len() is used to measure the length of string, tuple, list etc."
   ]
  },
  {
   "cell_type": "code",
   "execution_count": 1,
   "id": "126c69e4",
   "metadata": {},
   "outputs": [
    {
     "name": "stdout",
     "output_type": "stream",
     "text": [
      "3\n"
     ]
    }
   ],
   "source": [
    "l = [1,2,3]\n",
    "print(len(l))"
   ]
  },
  {
   "cell_type": "markdown",
   "id": "c2fd00c6",
   "metadata": {},
   "source": [
    "User-defined function : These functions are created by programmers to perform a specific task. These are defined by users only as per their need using 'def' keyword."
   ]
  },
  {
   "cell_type": "code",
   "execution_count": 3,
   "id": "b5a94629",
   "metadata": {},
   "outputs": [
    {
     "name": "stdout",
     "output_type": "stream",
     "text": [
      "4\n"
     ]
    }
   ],
   "source": [
    "def square(number):\n",
    "    return number**2\n",
    "\n",
    "print(square(2))"
   ]
  },
  {
   "cell_type": "markdown",
   "id": "8f2cd15a",
   "metadata": {},
   "source": [
    "2. How can you pass arguments to a function in Python? Explain the difference between positional\n",
    "arguments and keyword arguments."
   ]
  },
  {
   "cell_type": "markdown",
   "id": "45f30b81",
   "metadata": {},
   "source": [
    "Ans - We can pass arguments to a function in python using two ways :"
   ]
  },
  {
   "cell_type": "markdown",
   "id": "42d9c782",
   "metadata": {},
   "source": [
    "Positional Arguments:\n",
    "Positional arguments are passed to a function based on their position or order. The number and type of positional arguments in the function call must match the number and type of parameters in the function definition following the same order.\n",
    "\n",
    "Keyword Arguments:\n",
    "Keyword arguments, on the other hand, are passed with a parameter name followed by an equals sign (=) and the corresponding value. They allow you to specify the arguments by their parameter names, regardless of their position."
   ]
  },
  {
   "cell_type": "markdown",
   "id": "0d08db80",
   "metadata": {},
   "source": [
    "3. What is the purpose of the return statement in a function? Can a function have multiple return\n",
    "statements? Explain with an example."
   ]
  },
  {
   "cell_type": "markdown",
   "id": "177ea0bc",
   "metadata": {},
   "source": [
    "Ans - The return statement is a function used to specify the value that the function should return to the caller and any code written after the return statement will not be executed. Yes, the function can have multiple return statements."
   ]
  },
  {
   "cell_type": "code",
   "execution_count": 4,
   "id": "4a81df78",
   "metadata": {},
   "outputs": [
    {
     "name": "stdout",
     "output_type": "stream",
     "text": [
      "D\n"
     ]
    }
   ],
   "source": [
    "def student_score(score):\n",
    "    if score >= 90:\n",
    "        return \"A\"\n",
    "    elif score >= 80:\n",
    "        return \"B\"\n",
    "    elif score >= 70:\n",
    "        return \"C\"\n",
    "    else:\n",
    "        return \"D\"\n",
    "\n",
    "print(student_score(65))"
   ]
  },
  {
   "cell_type": "markdown",
   "id": "0ffa9a76",
   "metadata": {},
   "source": [
    "4. What are lambda functions in Python? How are they different from regular functions? Provide an\n",
    "example where a lambda function can be useful."
   ]
  },
  {
   "cell_type": "markdown",
   "id": "4d1668ea",
   "metadata": {},
   "source": [
    "Ans - Lambda function in Python is a one-line anonymous function without any name using lambda keyword. Lambda function can take any number of arguments but can only have one expression."
   ]
  },
  {
   "cell_type": "code",
   "execution_count": 5,
   "id": "60a1d657",
   "metadata": {},
   "outputs": [],
   "source": [
    "n = lambda a , b : a + b "
   ]
  },
  {
   "cell_type": "code",
   "execution_count": 6,
   "id": "35eb4f76",
   "metadata": {},
   "outputs": [
    {
     "data": {
      "text/plain": [
       "5"
      ]
     },
     "execution_count": 6,
     "metadata": {},
     "output_type": "execute_result"
    }
   ],
   "source": [
    "n(2,3)"
   ]
  },
  {
   "cell_type": "markdown",
   "id": "724cc948",
   "metadata": {},
   "source": [
    "5. How does the concept of \"scope\" apply to functions in Python? Explain the difference between local\n",
    "scope and global scope."
   ]
  },
  {
   "cell_type": "markdown",
   "id": "162f585d",
   "metadata": {},
   "source": [
    "Ans - In python, scope means the region or context in which a variable can be defined and accessed. \n",
    "\n",
    "There are two main types of scopes: \n",
    "1) Local scope : Local scope is the scope within a function. Variables defined inside a function are considered local to that function and can only be accessed within the function. They are not visible outside the function or in other functions.\n",
    "\n",
    "    \n",
    "2) Global scope : It refers to the scope outside a function. Variables defined in the global scope can be accessed from anywhere within the program."
   ]
  },
  {
   "cell_type": "code",
   "execution_count": 9,
   "id": "29e1a239",
   "metadata": {},
   "outputs": [
    {
     "name": "stdout",
     "output_type": "stream",
     "text": [
      "10\n",
      "None\n"
     ]
    }
   ],
   "source": [
    "def my_number():\n",
    "    x = 10  # Local variable\n",
    "    print(x)\n",
    "\n",
    "print(my_number())"
   ]
  },
  {
   "cell_type": "code",
   "execution_count": 16,
   "id": "b95ca3af",
   "metadata": {},
   "outputs": [
    {
     "name": "stdout",
     "output_type": "stream",
     "text": [
      "10\n",
      "None\n"
     ]
    }
   ],
   "source": [
    "x = 10  # Global variable\n",
    "def my_number():\n",
    "    print(x)\n",
    "    \n",
    "print(my_number())"
   ]
  },
  {
   "cell_type": "markdown",
   "id": "2dcf1ded",
   "metadata": {},
   "source": [
    "6. How can you use the \"return\" statement in a Python function to return multiple values?"
   ]
  },
  {
   "cell_type": "markdown",
   "id": "c98b3b7d",
   "metadata": {},
   "source": [
    "Ans - We can use the \"return\" statement in a python function to return multiple values in form of tuple, list or dictionary."
   ]
  },
  {
   "cell_type": "code",
   "execution_count": 17,
   "id": "29ca0f89",
   "metadata": {},
   "outputs": [
    {
     "name": "stdout",
     "output_type": "stream",
     "text": [
      "(10, 20, 30)\n"
     ]
    }
   ],
   "source": [
    "def my_collection():\n",
    "    a = 10\n",
    "    b = 20\n",
    "    c = 30\n",
    "    return a, b, c\n",
    "\n",
    "print(my_collection())"
   ]
  },
  {
   "cell_type": "code",
   "execution_count": 18,
   "id": "bceec716",
   "metadata": {},
   "outputs": [
    {
     "name": "stdout",
     "output_type": "stream",
     "text": [
      "[10, 20, 30]\n"
     ]
    }
   ],
   "source": [
    "def my_collection():\n",
    "    a = 10\n",
    "    b = 20\n",
    "    c = 30\n",
    "    return [a, b, c]\n",
    "\n",
    "print(my_collection())"
   ]
  },
  {
   "cell_type": "code",
   "execution_count": 28,
   "id": "8cd34b01",
   "metadata": {},
   "outputs": [
    {
     "name": "stdout",
     "output_type": "stream",
     "text": [
      "{'a': 10, 'b': 20, 'c': 30}\n"
     ]
    }
   ],
   "source": [
    "def my_collection():\n",
    "    a = 10\n",
    "    b = 20\n",
    "    c = 30\n",
    "    return {'a': a, 'b': b, 'c': c}\n",
    "\n",
    "print(my_collection())"
   ]
  },
  {
   "cell_type": "markdown",
   "id": "ed456e72",
   "metadata": {},
   "source": [
    "7. What is the difference between the \"pass by value\" and \"pass by reference\" concepts when it\n",
    "comes to function arguments in Python?"
   ]
  },
  {
   "cell_type": "markdown",
   "id": "e503c28c",
   "metadata": {},
   "source": [
    "Ans - \"Pass by Value\" : In pass by value, a copy of the value of the variable is made and passed to the function. Any modifications made to the parameter within the function do not affect the original variable outside the function."
   ]
  },
  {
   "cell_type": "code",
   "execution_count": 29,
   "id": "a7099d2b",
   "metadata": {},
   "outputs": [
    {
     "name": "stdout",
     "output_type": "stream",
     "text": [
      "5\n"
     ]
    }
   ],
   "source": [
    "def my_value(x):\n",
    "    x += 10\n",
    "\n",
    "num = 5\n",
    "my_value(num)\n",
    "print(num)  "
   ]
  },
  {
   "cell_type": "markdown",
   "id": "d9b4dcbf",
   "metadata": {},
   "source": [
    "\"Pass by reference\" : In pass by reference, a reference to the variable is passed to the function. Any modifications made to the parameter within the function will affect the original variable outside the function."
   ]
  },
  {
   "cell_type": "code",
   "execution_count": 30,
   "id": "69d217d9",
   "metadata": {},
   "outputs": [
    {
     "name": "stdout",
     "output_type": "stream",
     "text": [
      "[1, 2, 3, 4]\n"
     ]
    }
   ],
   "source": [
    "def my_value(x):\n",
    "    x.append(4)\n",
    "\n",
    "my_list = [1, 2, 3]\n",
    "my_value(my_list)\n",
    "print(my_list)  # Output: [1, 2, 3, 4]"
   ]
  },
  {
   "cell_type": "raw",
   "id": "964a82b7",
   "metadata": {},
   "source": [
    "8. Create a function that can intake integer or decimal value and do following operations:\n",
    "a. Logarithmic function (log x)\n",
    "b. Exponential function (exp(x))\n",
    "c. Power function with base 2 (2 to the power x)\n",
    "d. Square root"
   ]
  },
  {
   "cell_type": "code",
   "execution_count": 2,
   "id": "df01f869",
   "metadata": {},
   "outputs": [
    {
     "name": "stdout",
     "output_type": "stream",
     "text": [
      "{'log': 0.6931471805599453, 'exp': 7.38905609893065, 'power': 4.0, 'sqrt': 1.4142135623730951}\n"
     ]
    }
   ],
   "source": [
    "import math\n",
    "\n",
    "def perform_operations(value):\n",
    "    result = {}\n",
    "    \n",
    "    result['log'] = math.log(value)\n",
    "\n",
    "    result['exp'] = math.exp(value)\n",
    "    \n",
    "    result['power'] = math.pow(2, value)\n",
    "    \n",
    "    result['sqrt'] = math.sqrt(value)\n",
    "    \n",
    "    return result\n",
    "\n",
    "value = 2\n",
    "\n",
    "print(perform_operations(value))\n"
   ]
  },
  {
   "cell_type": "markdown",
   "id": "6b307114",
   "metadata": {},
   "source": [
    "9. Create a function that takes a full name as an argument and returns first name and last name."
   ]
  },
  {
   "cell_type": "code",
   "execution_count": 4,
   "id": "72c07c1e",
   "metadata": {},
   "outputs": [
    {
     "name": "stdout",
     "output_type": "stream",
     "text": [
      "['Vrindaa', 'Kulhria']\n"
     ]
    }
   ],
   "source": [
    "def get_first_last_name(full_name):\n",
    "    return (full_name.split())\n",
    "\n",
    "full_name = \"Vrindaa Kulhria\"\n",
    "print(get_first_last_name(full_name))"
   ]
  }
 ],
 "metadata": {
  "kernelspec": {
   "display_name": "Python 3 (ipykernel)",
   "language": "python",
   "name": "python3"
  },
  "language_info": {
   "codemirror_mode": {
    "name": "ipython",
    "version": 3
   },
   "file_extension": ".py",
   "mimetype": "text/x-python",
   "name": "python",
   "nbconvert_exporter": "python",
   "pygments_lexer": "ipython3",
   "version": "3.10.9"
  }
 },
 "nbformat": 4,
 "nbformat_minor": 5
}
